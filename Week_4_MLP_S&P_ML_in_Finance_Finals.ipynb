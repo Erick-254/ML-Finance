{
  "cells": [
    {
      "cell_type": "markdown",
      "metadata": {
        "id": "P1u0ld407Oic"
      },
      "source": [
        "<html> <h1 style=\"font-style:bold; color:blue;\"> Machine Learning in Finance </h1> </html>"
      ]
    },
    {
      "cell_type": "markdown",
      "metadata": {
        "id": "8D6Co9p57Oij"
      },
      "source": [
        "<html> <h1 style=\"font-style:italic; color:blue;\"> Week-4 </h1> </html>"
      ]
    },
    {
      "cell_type": "code",
      "execution_count": null,
      "metadata": {
        "id": "A3051vGl7Oik"
      },
      "outputs": [],
      "source": []
    },
    {
      "cell_type": "markdown",
      "metadata": {
        "id": "S63dFCNE7Oim"
      },
      "source": [
        "### Your first price forecast model"
      ]
    },
    {
      "cell_type": "markdown",
      "metadata": {
        "id": "lW73B3Xz7Oim"
      },
      "source": [
        "## S&P-500 Index Prices Forecast using a Multilayer Perceptron (MLP) Neural network"
      ]
    },
    {
      "cell_type": "code",
      "execution_count": null,
      "metadata": {
        "id": "Xej1YVWK7Oin"
      },
      "outputs": [],
      "source": []
    },
    {
      "cell_type": "markdown",
      "metadata": {
        "id": "ebegdH7b7Oin"
      },
      "source": [
        "#### It is a training example of forecasting the S&P 500 Index at the prices of the previous minute of all shares included in this Index. The value of the Index is predicted for the next minute following the current minute.\n",
        "#### A multilayer perceptron (MLP) Neural network with fully connected layers (dense) is used.\n",
        "#### The dataset consists of the Index (outputs) and stock prices (inputs) for five months of 2017 of the S&P 500 constituents."
      ]
    },
    {
      "cell_type": "markdown",
      "metadata": {
        "id": "XtnG0W2t7Oip"
      },
      "source": [
        "#### The S&P-500 (S&P) is a stock market index that measures the stock performance of 500 large companies listed on stock exchanges in the United States. The weight of each company in the index is proportional to its capitalization (more precisely, free-float)"
      ]
    },
    {
      "cell_type": "markdown",
      "metadata": {
        "id": "s_z4KZXO7Oiq"
      },
      "source": [
        "#### \"S&P-500 Index\": (https://en.wikipedia.org/wiki/S%26P_500_Index)"
      ]
    },
    {
      "cell_type": "markdown",
      "metadata": {
        "id": "Cxv3BAjU7Oiu"
      },
      "source": [
        "#### ! Note that this notebook is a hands-on tutorial on machine learning in Finance. Live forecasting of stock prices is a challenging and complex task that requires tremendous effort, especially at higher frequencies, such as the one-minute timeframe used here."
      ]
    },
    {
      "cell_type": "markdown",
      "metadata": {
        "id": "OfNGNCPS7Oiu"
      },
      "source": [
        "##### **Source** - paper \"A simple deep learning model for stock price prediction using TensorFlow\":\n",
        "(https://medium.com/mlreview/a-simple-deep-learning-model-for-stock-price-prediction-using-tensorflow-30505541d877)."
      ]
    },
    {
      "cell_type": "markdown",
      "metadata": {
        "id": "GBFWHDiz7Oiv"
      },
      "source": [
        ".........................................................![image.png](attachment:d579437e-4c98-4640-89b5-bbf0ace4e99e.png)"
      ]
    },
    {
      "cell_type": "code",
      "execution_count": 1,
      "metadata": {
        "id": "H3l3FI8E7Oiv"
      },
      "outputs": [],
      "source": [
        "import numpy as np\n",
        "import pandas as pd\n",
        "import matplotlib.pyplot as plt\n",
        "%matplotlib inline"
      ]
    },
    {
      "cell_type": "code",
      "execution_count": 1,
      "metadata": {
        "id": "P3KYXp197Oi1"
      },
      "outputs": [],
      "source": []
    },
    {
      "cell_type": "markdown",
      "metadata": {
        "id": "J4vM-XS47Oi1"
      },
      "source": [
        ".........................................................![image.png](attachment:6dfa05e1-62da-475a-9373-d120da1dabd2.png)"
      ]
    },
    {
      "cell_type": "code",
      "execution_count": 2,
      "metadata": {
        "id": "IQaxbLA47Oi2"
      },
      "outputs": [],
      "source": [
        "np.random.seed(42)"
      ]
    },
    {
      "cell_type": "code",
      "execution_count": 2,
      "metadata": {
        "id": "JqNnlDi57Oi2"
      },
      "outputs": [],
      "source": []
    },
    {
      "cell_type": "code",
      "execution_count": 2,
      "metadata": {
        "id": "sfoXQkM77Oi3"
      },
      "outputs": [],
      "source": []
    },
    {
      "cell_type": "markdown",
      "metadata": {
        "id": "hrvNHTTR7Oi3"
      },
      "source": [
        "<html> <h3 style=\"color:blue;\"> Dataset </h3> </html>"
      ]
    },
    {
      "cell_type": "markdown",
      "metadata": {
        "id": "_nhUBLKv7Oi4"
      },
      "source": [
        ".........................................................![image.png](attachment:33f6935b-9b68-4b3a-8c28-61aced6a00ce.png)"
      ]
    },
    {
      "cell_type": "code",
      "execution_count": 16,
      "metadata": {
        "colab": {
          "base_uri": "https://localhost:8080/",
          "height": 256
        },
        "id": "ygQ7uTWL7Oi5",
        "outputId": "c26ff886-17d6-4125-dc8b-1214ea97bbcf"
      },
      "outputs": [
        {
          "output_type": "execute_result",
          "data": {
            "text/plain": [
              "         DATE      SP500  NASDAQ.AAL  NASDAQ.AAPL  NASDAQ.ADBE  NASDAQ.ADI  \\\n",
              "0  1491226200  2363.6101     42.3300     143.6800     129.6300      82.040   \n",
              "1  1491226260  2364.1001     42.3600     143.7000     130.3200      82.080   \n",
              "2  1491226320  2362.6799     42.3100     143.6901     130.2250      82.030   \n",
              "3  1491226380  2364.3101     42.3700     143.6400     130.0729      82.000   \n",
              "4  1491226440  2364.8501     42.5378     143.6600     129.8800      82.035   \n",
              "\n",
              "   NASDAQ.ADP  NASDAQ.ADSK  NASDAQ.AKAM  NASDAQ.ALXN  ...  NYSE.WYN  NYSE.XEC  \\\n",
              "0    102.2300      85.2200       59.760       121.52  ...    84.370   119.035   \n",
              "1    102.1400      85.6500       59.840       121.48  ...    84.370   119.035   \n",
              "2    102.2125      85.5100       59.795       121.93  ...    84.585   119.260   \n",
              "3    102.1400      85.4872       59.620       121.44  ...    84.460   119.260   \n",
              "4    102.0600      85.7001       59.620       121.60  ...    84.470   119.610   \n",
              "\n",
              "   NYSE.XEL  NYSE.XL  NYSE.XOM  NYSE.XRX  NYSE.XYL  NYSE.YUM  NYSE.ZBH  \\\n",
              "0     44.40    39.88     82.03      7.36     50.22     63.86   122.000   \n",
              "1     44.11    39.88     82.03      7.38     50.22     63.74   121.770   \n",
              "2     44.09    39.98     82.02      7.36     50.12     63.75   121.700   \n",
              "3     44.25    39.99     82.02      7.35     50.16     63.88   121.700   \n",
              "4     44.11    39.96     82.03      7.36     50.20     63.91   121.695   \n",
              "\n",
              "   NYSE.ZTS  \n",
              "0    53.350  \n",
              "1    53.350  \n",
              "2    53.365  \n",
              "3    53.380  \n",
              "4    53.240  \n",
              "\n",
              "[5 rows x 502 columns]"
            ],
            "text/html": [
              "\n",
              "  <div id=\"df-74bfa852-d6ab-401a-bfbb-676439cd97b5\" class=\"colab-df-container\">\n",
              "    <div>\n",
              "<style scoped>\n",
              "    .dataframe tbody tr th:only-of-type {\n",
              "        vertical-align: middle;\n",
              "    }\n",
              "\n",
              "    .dataframe tbody tr th {\n",
              "        vertical-align: top;\n",
              "    }\n",
              "\n",
              "    .dataframe thead th {\n",
              "        text-align: right;\n",
              "    }\n",
              "</style>\n",
              "<table border=\"1\" class=\"dataframe\">\n",
              "  <thead>\n",
              "    <tr style=\"text-align: right;\">\n",
              "      <th></th>\n",
              "      <th>DATE</th>\n",
              "      <th>SP500</th>\n",
              "      <th>NASDAQ.AAL</th>\n",
              "      <th>NASDAQ.AAPL</th>\n",
              "      <th>NASDAQ.ADBE</th>\n",
              "      <th>NASDAQ.ADI</th>\n",
              "      <th>NASDAQ.ADP</th>\n",
              "      <th>NASDAQ.ADSK</th>\n",
              "      <th>NASDAQ.AKAM</th>\n",
              "      <th>NASDAQ.ALXN</th>\n",
              "      <th>...</th>\n",
              "      <th>NYSE.WYN</th>\n",
              "      <th>NYSE.XEC</th>\n",
              "      <th>NYSE.XEL</th>\n",
              "      <th>NYSE.XL</th>\n",
              "      <th>NYSE.XOM</th>\n",
              "      <th>NYSE.XRX</th>\n",
              "      <th>NYSE.XYL</th>\n",
              "      <th>NYSE.YUM</th>\n",
              "      <th>NYSE.ZBH</th>\n",
              "      <th>NYSE.ZTS</th>\n",
              "    </tr>\n",
              "  </thead>\n",
              "  <tbody>\n",
              "    <tr>\n",
              "      <th>0</th>\n",
              "      <td>1491226200</td>\n",
              "      <td>2363.6101</td>\n",
              "      <td>42.3300</td>\n",
              "      <td>143.6800</td>\n",
              "      <td>129.6300</td>\n",
              "      <td>82.040</td>\n",
              "      <td>102.2300</td>\n",
              "      <td>85.2200</td>\n",
              "      <td>59.760</td>\n",
              "      <td>121.52</td>\n",
              "      <td>...</td>\n",
              "      <td>84.370</td>\n",
              "      <td>119.035</td>\n",
              "      <td>44.40</td>\n",
              "      <td>39.88</td>\n",
              "      <td>82.03</td>\n",
              "      <td>7.36</td>\n",
              "      <td>50.22</td>\n",
              "      <td>63.86</td>\n",
              "      <td>122.000</td>\n",
              "      <td>53.350</td>\n",
              "    </tr>\n",
              "    <tr>\n",
              "      <th>1</th>\n",
              "      <td>1491226260</td>\n",
              "      <td>2364.1001</td>\n",
              "      <td>42.3600</td>\n",
              "      <td>143.7000</td>\n",
              "      <td>130.3200</td>\n",
              "      <td>82.080</td>\n",
              "      <td>102.1400</td>\n",
              "      <td>85.6500</td>\n",
              "      <td>59.840</td>\n",
              "      <td>121.48</td>\n",
              "      <td>...</td>\n",
              "      <td>84.370</td>\n",
              "      <td>119.035</td>\n",
              "      <td>44.11</td>\n",
              "      <td>39.88</td>\n",
              "      <td>82.03</td>\n",
              "      <td>7.38</td>\n",
              "      <td>50.22</td>\n",
              "      <td>63.74</td>\n",
              "      <td>121.770</td>\n",
              "      <td>53.350</td>\n",
              "    </tr>\n",
              "    <tr>\n",
              "      <th>2</th>\n",
              "      <td>1491226320</td>\n",
              "      <td>2362.6799</td>\n",
              "      <td>42.3100</td>\n",
              "      <td>143.6901</td>\n",
              "      <td>130.2250</td>\n",
              "      <td>82.030</td>\n",
              "      <td>102.2125</td>\n",
              "      <td>85.5100</td>\n",
              "      <td>59.795</td>\n",
              "      <td>121.93</td>\n",
              "      <td>...</td>\n",
              "      <td>84.585</td>\n",
              "      <td>119.260</td>\n",
              "      <td>44.09</td>\n",
              "      <td>39.98</td>\n",
              "      <td>82.02</td>\n",
              "      <td>7.36</td>\n",
              "      <td>50.12</td>\n",
              "      <td>63.75</td>\n",
              "      <td>121.700</td>\n",
              "      <td>53.365</td>\n",
              "    </tr>\n",
              "    <tr>\n",
              "      <th>3</th>\n",
              "      <td>1491226380</td>\n",
              "      <td>2364.3101</td>\n",
              "      <td>42.3700</td>\n",
              "      <td>143.6400</td>\n",
              "      <td>130.0729</td>\n",
              "      <td>82.000</td>\n",
              "      <td>102.1400</td>\n",
              "      <td>85.4872</td>\n",
              "      <td>59.620</td>\n",
              "      <td>121.44</td>\n",
              "      <td>...</td>\n",
              "      <td>84.460</td>\n",
              "      <td>119.260</td>\n",
              "      <td>44.25</td>\n",
              "      <td>39.99</td>\n",
              "      <td>82.02</td>\n",
              "      <td>7.35</td>\n",
              "      <td>50.16</td>\n",
              "      <td>63.88</td>\n",
              "      <td>121.700</td>\n",
              "      <td>53.380</td>\n",
              "    </tr>\n",
              "    <tr>\n",
              "      <th>4</th>\n",
              "      <td>1491226440</td>\n",
              "      <td>2364.8501</td>\n",
              "      <td>42.5378</td>\n",
              "      <td>143.6600</td>\n",
              "      <td>129.8800</td>\n",
              "      <td>82.035</td>\n",
              "      <td>102.0600</td>\n",
              "      <td>85.7001</td>\n",
              "      <td>59.620</td>\n",
              "      <td>121.60</td>\n",
              "      <td>...</td>\n",
              "      <td>84.470</td>\n",
              "      <td>119.610</td>\n",
              "      <td>44.11</td>\n",
              "      <td>39.96</td>\n",
              "      <td>82.03</td>\n",
              "      <td>7.36</td>\n",
              "      <td>50.20</td>\n",
              "      <td>63.91</td>\n",
              "      <td>121.695</td>\n",
              "      <td>53.240</td>\n",
              "    </tr>\n",
              "  </tbody>\n",
              "</table>\n",
              "<p>5 rows × 502 columns</p>\n",
              "</div>\n",
              "    <div class=\"colab-df-buttons\">\n",
              "\n",
              "  <div class=\"colab-df-container\">\n",
              "    <button class=\"colab-df-convert\" onclick=\"convertToInteractive('df-74bfa852-d6ab-401a-bfbb-676439cd97b5')\"\n",
              "            title=\"Convert this dataframe to an interactive table.\"\n",
              "            style=\"display:none;\">\n",
              "\n",
              "  <svg xmlns=\"http://www.w3.org/2000/svg\" height=\"24px\" viewBox=\"0 -960 960 960\">\n",
              "    <path d=\"M120-120v-720h720v720H120Zm60-500h600v-160H180v160Zm220 220h160v-160H400v160Zm0 220h160v-160H400v160ZM180-400h160v-160H180v160Zm440 0h160v-160H620v160ZM180-180h160v-160H180v160Zm440 0h160v-160H620v160Z\"/>\n",
              "  </svg>\n",
              "    </button>\n",
              "\n",
              "  <style>\n",
              "    .colab-df-container {\n",
              "      display:flex;\n",
              "      gap: 12px;\n",
              "    }\n",
              "\n",
              "    .colab-df-convert {\n",
              "      background-color: #E8F0FE;\n",
              "      border: none;\n",
              "      border-radius: 50%;\n",
              "      cursor: pointer;\n",
              "      display: none;\n",
              "      fill: #1967D2;\n",
              "      height: 32px;\n",
              "      padding: 0 0 0 0;\n",
              "      width: 32px;\n",
              "    }\n",
              "\n",
              "    .colab-df-convert:hover {\n",
              "      background-color: #E2EBFA;\n",
              "      box-shadow: 0px 1px 2px rgba(60, 64, 67, 0.3), 0px 1px 3px 1px rgba(60, 64, 67, 0.15);\n",
              "      fill: #174EA6;\n",
              "    }\n",
              "\n",
              "    .colab-df-buttons div {\n",
              "      margin-bottom: 4px;\n",
              "    }\n",
              "\n",
              "    [theme=dark] .colab-df-convert {\n",
              "      background-color: #3B4455;\n",
              "      fill: #D2E3FC;\n",
              "    }\n",
              "\n",
              "    [theme=dark] .colab-df-convert:hover {\n",
              "      background-color: #434B5C;\n",
              "      box-shadow: 0px 1px 3px 1px rgba(0, 0, 0, 0.15);\n",
              "      filter: drop-shadow(0px 1px 2px rgba(0, 0, 0, 0.3));\n",
              "      fill: #FFFFFF;\n",
              "    }\n",
              "  </style>\n",
              "\n",
              "    <script>\n",
              "      const buttonEl =\n",
              "        document.querySelector('#df-74bfa852-d6ab-401a-bfbb-676439cd97b5 button.colab-df-convert');\n",
              "      buttonEl.style.display =\n",
              "        google.colab.kernel.accessAllowed ? 'block' : 'none';\n",
              "\n",
              "      async function convertToInteractive(key) {\n",
              "        const element = document.querySelector('#df-74bfa852-d6ab-401a-bfbb-676439cd97b5');\n",
              "        const dataTable =\n",
              "          await google.colab.kernel.invokeFunction('convertToInteractive',\n",
              "                                                    [key], {});\n",
              "        if (!dataTable) return;\n",
              "\n",
              "        const docLinkHtml = 'Like what you see? Visit the ' +\n",
              "          '<a target=\"_blank\" href=https://colab.research.google.com/notebooks/data_table.ipynb>data table notebook</a>'\n",
              "          + ' to learn more about interactive tables.';\n",
              "        element.innerHTML = '';\n",
              "        dataTable['output_type'] = 'display_data';\n",
              "        await google.colab.output.renderOutput(dataTable, element);\n",
              "        const docLink = document.createElement('div');\n",
              "        docLink.innerHTML = docLinkHtml;\n",
              "        element.appendChild(docLink);\n",
              "      }\n",
              "    </script>\n",
              "  </div>\n",
              "\n",
              "\n",
              "    <div id=\"df-e00b8619-6bbc-453a-86b8-a0726120b54b\">\n",
              "      <button class=\"colab-df-quickchart\" onclick=\"quickchart('df-e00b8619-6bbc-453a-86b8-a0726120b54b')\"\n",
              "                title=\"Suggest charts\"\n",
              "                style=\"display:none;\">\n",
              "\n",
              "<svg xmlns=\"http://www.w3.org/2000/svg\" height=\"24px\"viewBox=\"0 0 24 24\"\n",
              "     width=\"24px\">\n",
              "    <g>\n",
              "        <path d=\"M19 3H5c-1.1 0-2 .9-2 2v14c0 1.1.9 2 2 2h14c1.1 0 2-.9 2-2V5c0-1.1-.9-2-2-2zM9 17H7v-7h2v7zm4 0h-2V7h2v10zm4 0h-2v-4h2v4z\"/>\n",
              "    </g>\n",
              "</svg>\n",
              "      </button>\n",
              "\n",
              "<style>\n",
              "  .colab-df-quickchart {\n",
              "      --bg-color: #E8F0FE;\n",
              "      --fill-color: #1967D2;\n",
              "      --hover-bg-color: #E2EBFA;\n",
              "      --hover-fill-color: #174EA6;\n",
              "      --disabled-fill-color: #AAA;\n",
              "      --disabled-bg-color: #DDD;\n",
              "  }\n",
              "\n",
              "  [theme=dark] .colab-df-quickchart {\n",
              "      --bg-color: #3B4455;\n",
              "      --fill-color: #D2E3FC;\n",
              "      --hover-bg-color: #434B5C;\n",
              "      --hover-fill-color: #FFFFFF;\n",
              "      --disabled-bg-color: #3B4455;\n",
              "      --disabled-fill-color: #666;\n",
              "  }\n",
              "\n",
              "  .colab-df-quickchart {\n",
              "    background-color: var(--bg-color);\n",
              "    border: none;\n",
              "    border-radius: 50%;\n",
              "    cursor: pointer;\n",
              "    display: none;\n",
              "    fill: var(--fill-color);\n",
              "    height: 32px;\n",
              "    padding: 0;\n",
              "    width: 32px;\n",
              "  }\n",
              "\n",
              "  .colab-df-quickchart:hover {\n",
              "    background-color: var(--hover-bg-color);\n",
              "    box-shadow: 0 1px 2px rgba(60, 64, 67, 0.3), 0 1px 3px 1px rgba(60, 64, 67, 0.15);\n",
              "    fill: var(--button-hover-fill-color);\n",
              "  }\n",
              "\n",
              "  .colab-df-quickchart-complete:disabled,\n",
              "  .colab-df-quickchart-complete:disabled:hover {\n",
              "    background-color: var(--disabled-bg-color);\n",
              "    fill: var(--disabled-fill-color);\n",
              "    box-shadow: none;\n",
              "  }\n",
              "\n",
              "  .colab-df-spinner {\n",
              "    border: 2px solid var(--fill-color);\n",
              "    border-color: transparent;\n",
              "    border-bottom-color: var(--fill-color);\n",
              "    animation:\n",
              "      spin 1s steps(1) infinite;\n",
              "  }\n",
              "\n",
              "  @keyframes spin {\n",
              "    0% {\n",
              "      border-color: transparent;\n",
              "      border-bottom-color: var(--fill-color);\n",
              "      border-left-color: var(--fill-color);\n",
              "    }\n",
              "    20% {\n",
              "      border-color: transparent;\n",
              "      border-left-color: var(--fill-color);\n",
              "      border-top-color: var(--fill-color);\n",
              "    }\n",
              "    30% {\n",
              "      border-color: transparent;\n",
              "      border-left-color: var(--fill-color);\n",
              "      border-top-color: var(--fill-color);\n",
              "      border-right-color: var(--fill-color);\n",
              "    }\n",
              "    40% {\n",
              "      border-color: transparent;\n",
              "      border-right-color: var(--fill-color);\n",
              "      border-top-color: var(--fill-color);\n",
              "    }\n",
              "    60% {\n",
              "      border-color: transparent;\n",
              "      border-right-color: var(--fill-color);\n",
              "    }\n",
              "    80% {\n",
              "      border-color: transparent;\n",
              "      border-right-color: var(--fill-color);\n",
              "      border-bottom-color: var(--fill-color);\n",
              "    }\n",
              "    90% {\n",
              "      border-color: transparent;\n",
              "      border-bottom-color: var(--fill-color);\n",
              "    }\n",
              "  }\n",
              "</style>\n",
              "\n",
              "      <script>\n",
              "        async function quickchart(key) {\n",
              "          const quickchartButtonEl =\n",
              "            document.querySelector('#' + key + ' button');\n",
              "          quickchartButtonEl.disabled = true;  // To prevent multiple clicks.\n",
              "          quickchartButtonEl.classList.add('colab-df-spinner');\n",
              "          try {\n",
              "            const charts = await google.colab.kernel.invokeFunction(\n",
              "                'suggestCharts', [key], {});\n",
              "          } catch (error) {\n",
              "            console.error('Error during call to suggestCharts:', error);\n",
              "          }\n",
              "          quickchartButtonEl.classList.remove('colab-df-spinner');\n",
              "          quickchartButtonEl.classList.add('colab-df-quickchart-complete');\n",
              "        }\n",
              "        (() => {\n",
              "          let quickchartButtonEl =\n",
              "            document.querySelector('#df-e00b8619-6bbc-453a-86b8-a0726120b54b button');\n",
              "          quickchartButtonEl.style.display =\n",
              "            google.colab.kernel.accessAllowed ? 'block' : 'none';\n",
              "        })();\n",
              "      </script>\n",
              "    </div>\n",
              "\n",
              "    </div>\n",
              "  </div>\n"
            ],
            "application/vnd.google.colaboratory.intrinsic+json": {
              "type": "dataframe",
              "variable_name": "data"
            }
          },
          "metadata": {},
          "execution_count": 16
        }
      ],
      "source": [
        "data=pd.read_csv('data_stocks.csv')\n",
        "data.head()"
      ]
    },
    {
      "cell_type": "code",
      "execution_count": 17,
      "metadata": {
        "id": "Ki9r2z3W7Oi-"
      },
      "outputs": [],
      "source": []
    },
    {
      "cell_type": "markdown",
      "metadata": {
        "id": "X8ljKRGt7Oi_"
      },
      "source": [
        ".........................................................![image.png](attachment:f9ca54a1-19a8-4c70-b638-8234806a1dc1.png)"
      ]
    },
    {
      "cell_type": "code",
      "execution_count": 17,
      "metadata": {
        "colab": {
          "base_uri": "https://localhost:8080/",
          "height": 193
        },
        "id": "BSutMzeZ7Oi_",
        "outputId": "d02d2087-ff45-4e3b-89c2-449c5864e2f7"
      },
      "outputs": [
        {
          "output_type": "execute_result",
          "data": {
            "text/plain": [
              "            DATE      SP500  NASDAQ.AAL  NASDAQ.AAPL  NASDAQ.ADBE  NASDAQ.ADI  \\\n",
              "8079  1493747340  2390.1499       43.59       147.10      135.195       75.67   \n",
              "8080  1493747400  2390.0100       43.59       147.06      135.180       75.69   \n",
              "8081  1493747460  2389.5901       43.52       147.03      135.185       75.69   \n",
              "\n",
              "      NASDAQ.ADP  NASDAQ.ADSK  NASDAQ.AKAM  NASDAQ.ALXN  ...  NYSE.WYN  \\\n",
              "8079      104.19        92.72        62.38       133.10  ...    95.255   \n",
              "8080      104.18        92.68        62.42       133.15  ...    95.245   \n",
              "8081      104.18        92.73        62.41       133.12  ...       NaN   \n",
              "\n",
              "      NYSE.XEC  NYSE.XEL  NYSE.XL  NYSE.XOM  NYSE.XRX  NYSE.XYL  NYSE.YUM  \\\n",
              "8079     116.5    44.815   42.220    82.335     6.995    50.520    66.005   \n",
              "8080     116.4    44.820   42.215    82.310     6.990    50.535    66.050   \n",
              "8081       NaN       NaN      NaN       NaN       NaN       NaN       NaN   \n",
              "\n",
              "      NYSE.ZBH  NYSE.ZTS  \n",
              "8079    120.73     56.22  \n",
              "8080    120.69     56.21  \n",
              "8081       NaN       NaN  \n",
              "\n",
              "[3 rows x 502 columns]"
            ],
            "text/html": [
              "\n",
              "  <div id=\"df-7929cf01-e5d1-4bfa-b69d-b3626ee5c95c\" class=\"colab-df-container\">\n",
              "    <div>\n",
              "<style scoped>\n",
              "    .dataframe tbody tr th:only-of-type {\n",
              "        vertical-align: middle;\n",
              "    }\n",
              "\n",
              "    .dataframe tbody tr th {\n",
              "        vertical-align: top;\n",
              "    }\n",
              "\n",
              "    .dataframe thead th {\n",
              "        text-align: right;\n",
              "    }\n",
              "</style>\n",
              "<table border=\"1\" class=\"dataframe\">\n",
              "  <thead>\n",
              "    <tr style=\"text-align: right;\">\n",
              "      <th></th>\n",
              "      <th>DATE</th>\n",
              "      <th>SP500</th>\n",
              "      <th>NASDAQ.AAL</th>\n",
              "      <th>NASDAQ.AAPL</th>\n",
              "      <th>NASDAQ.ADBE</th>\n",
              "      <th>NASDAQ.ADI</th>\n",
              "      <th>NASDAQ.ADP</th>\n",
              "      <th>NASDAQ.ADSK</th>\n",
              "      <th>NASDAQ.AKAM</th>\n",
              "      <th>NASDAQ.ALXN</th>\n",
              "      <th>...</th>\n",
              "      <th>NYSE.WYN</th>\n",
              "      <th>NYSE.XEC</th>\n",
              "      <th>NYSE.XEL</th>\n",
              "      <th>NYSE.XL</th>\n",
              "      <th>NYSE.XOM</th>\n",
              "      <th>NYSE.XRX</th>\n",
              "      <th>NYSE.XYL</th>\n",
              "      <th>NYSE.YUM</th>\n",
              "      <th>NYSE.ZBH</th>\n",
              "      <th>NYSE.ZTS</th>\n",
              "    </tr>\n",
              "  </thead>\n",
              "  <tbody>\n",
              "    <tr>\n",
              "      <th>8079</th>\n",
              "      <td>1493747340</td>\n",
              "      <td>2390.1499</td>\n",
              "      <td>43.59</td>\n",
              "      <td>147.10</td>\n",
              "      <td>135.195</td>\n",
              "      <td>75.67</td>\n",
              "      <td>104.19</td>\n",
              "      <td>92.72</td>\n",
              "      <td>62.38</td>\n",
              "      <td>133.10</td>\n",
              "      <td>...</td>\n",
              "      <td>95.255</td>\n",
              "      <td>116.5</td>\n",
              "      <td>44.815</td>\n",
              "      <td>42.220</td>\n",
              "      <td>82.335</td>\n",
              "      <td>6.995</td>\n",
              "      <td>50.520</td>\n",
              "      <td>66.005</td>\n",
              "      <td>120.73</td>\n",
              "      <td>56.22</td>\n",
              "    </tr>\n",
              "    <tr>\n",
              "      <th>8080</th>\n",
              "      <td>1493747400</td>\n",
              "      <td>2390.0100</td>\n",
              "      <td>43.59</td>\n",
              "      <td>147.06</td>\n",
              "      <td>135.180</td>\n",
              "      <td>75.69</td>\n",
              "      <td>104.18</td>\n",
              "      <td>92.68</td>\n",
              "      <td>62.42</td>\n",
              "      <td>133.15</td>\n",
              "      <td>...</td>\n",
              "      <td>95.245</td>\n",
              "      <td>116.4</td>\n",
              "      <td>44.820</td>\n",
              "      <td>42.215</td>\n",
              "      <td>82.310</td>\n",
              "      <td>6.990</td>\n",
              "      <td>50.535</td>\n",
              "      <td>66.050</td>\n",
              "      <td>120.69</td>\n",
              "      <td>56.21</td>\n",
              "    </tr>\n",
              "    <tr>\n",
              "      <th>8081</th>\n",
              "      <td>1493747460</td>\n",
              "      <td>2389.5901</td>\n",
              "      <td>43.52</td>\n",
              "      <td>147.03</td>\n",
              "      <td>135.185</td>\n",
              "      <td>75.69</td>\n",
              "      <td>104.18</td>\n",
              "      <td>92.73</td>\n",
              "      <td>62.41</td>\n",
              "      <td>133.12</td>\n",
              "      <td>...</td>\n",
              "      <td>NaN</td>\n",
              "      <td>NaN</td>\n",
              "      <td>NaN</td>\n",
              "      <td>NaN</td>\n",
              "      <td>NaN</td>\n",
              "      <td>NaN</td>\n",
              "      <td>NaN</td>\n",
              "      <td>NaN</td>\n",
              "      <td>NaN</td>\n",
              "      <td>NaN</td>\n",
              "    </tr>\n",
              "  </tbody>\n",
              "</table>\n",
              "<p>3 rows × 502 columns</p>\n",
              "</div>\n",
              "    <div class=\"colab-df-buttons\">\n",
              "\n",
              "  <div class=\"colab-df-container\">\n",
              "    <button class=\"colab-df-convert\" onclick=\"convertToInteractive('df-7929cf01-e5d1-4bfa-b69d-b3626ee5c95c')\"\n",
              "            title=\"Convert this dataframe to an interactive table.\"\n",
              "            style=\"display:none;\">\n",
              "\n",
              "  <svg xmlns=\"http://www.w3.org/2000/svg\" height=\"24px\" viewBox=\"0 -960 960 960\">\n",
              "    <path d=\"M120-120v-720h720v720H120Zm60-500h600v-160H180v160Zm220 220h160v-160H400v160Zm0 220h160v-160H400v160ZM180-400h160v-160H180v160Zm440 0h160v-160H620v160ZM180-180h160v-160H180v160Zm440 0h160v-160H620v160Z\"/>\n",
              "  </svg>\n",
              "    </button>\n",
              "\n",
              "  <style>\n",
              "    .colab-df-container {\n",
              "      display:flex;\n",
              "      gap: 12px;\n",
              "    }\n",
              "\n",
              "    .colab-df-convert {\n",
              "      background-color: #E8F0FE;\n",
              "      border: none;\n",
              "      border-radius: 50%;\n",
              "      cursor: pointer;\n",
              "      display: none;\n",
              "      fill: #1967D2;\n",
              "      height: 32px;\n",
              "      padding: 0 0 0 0;\n",
              "      width: 32px;\n",
              "    }\n",
              "\n",
              "    .colab-df-convert:hover {\n",
              "      background-color: #E2EBFA;\n",
              "      box-shadow: 0px 1px 2px rgba(60, 64, 67, 0.3), 0px 1px 3px 1px rgba(60, 64, 67, 0.15);\n",
              "      fill: #174EA6;\n",
              "    }\n",
              "\n",
              "    .colab-df-buttons div {\n",
              "      margin-bottom: 4px;\n",
              "    }\n",
              "\n",
              "    [theme=dark] .colab-df-convert {\n",
              "      background-color: #3B4455;\n",
              "      fill: #D2E3FC;\n",
              "    }\n",
              "\n",
              "    [theme=dark] .colab-df-convert:hover {\n",
              "      background-color: #434B5C;\n",
              "      box-shadow: 0px 1px 3px 1px rgba(0, 0, 0, 0.15);\n",
              "      filter: drop-shadow(0px 1px 2px rgba(0, 0, 0, 0.3));\n",
              "      fill: #FFFFFF;\n",
              "    }\n",
              "  </style>\n",
              "\n",
              "    <script>\n",
              "      const buttonEl =\n",
              "        document.querySelector('#df-7929cf01-e5d1-4bfa-b69d-b3626ee5c95c button.colab-df-convert');\n",
              "      buttonEl.style.display =\n",
              "        google.colab.kernel.accessAllowed ? 'block' : 'none';\n",
              "\n",
              "      async function convertToInteractive(key) {\n",
              "        const element = document.querySelector('#df-7929cf01-e5d1-4bfa-b69d-b3626ee5c95c');\n",
              "        const dataTable =\n",
              "          await google.colab.kernel.invokeFunction('convertToInteractive',\n",
              "                                                    [key], {});\n",
              "        if (!dataTable) return;\n",
              "\n",
              "        const docLinkHtml = 'Like what you see? Visit the ' +\n",
              "          '<a target=\"_blank\" href=https://colab.research.google.com/notebooks/data_table.ipynb>data table notebook</a>'\n",
              "          + ' to learn more about interactive tables.';\n",
              "        element.innerHTML = '';\n",
              "        dataTable['output_type'] = 'display_data';\n",
              "        await google.colab.output.renderOutput(dataTable, element);\n",
              "        const docLink = document.createElement('div');\n",
              "        docLink.innerHTML = docLinkHtml;\n",
              "        element.appendChild(docLink);\n",
              "      }\n",
              "    </script>\n",
              "  </div>\n",
              "\n",
              "\n",
              "    <div id=\"df-02d7ca81-0e6e-4048-9a0e-2fab0661771b\">\n",
              "      <button class=\"colab-df-quickchart\" onclick=\"quickchart('df-02d7ca81-0e6e-4048-9a0e-2fab0661771b')\"\n",
              "                title=\"Suggest charts\"\n",
              "                style=\"display:none;\">\n",
              "\n",
              "<svg xmlns=\"http://www.w3.org/2000/svg\" height=\"24px\"viewBox=\"0 0 24 24\"\n",
              "     width=\"24px\">\n",
              "    <g>\n",
              "        <path d=\"M19 3H5c-1.1 0-2 .9-2 2v14c0 1.1.9 2 2 2h14c1.1 0 2-.9 2-2V5c0-1.1-.9-2-2-2zM9 17H7v-7h2v7zm4 0h-2V7h2v10zm4 0h-2v-4h2v4z\"/>\n",
              "    </g>\n",
              "</svg>\n",
              "      </button>\n",
              "\n",
              "<style>\n",
              "  .colab-df-quickchart {\n",
              "      --bg-color: #E8F0FE;\n",
              "      --fill-color: #1967D2;\n",
              "      --hover-bg-color: #E2EBFA;\n",
              "      --hover-fill-color: #174EA6;\n",
              "      --disabled-fill-color: #AAA;\n",
              "      --disabled-bg-color: #DDD;\n",
              "  }\n",
              "\n",
              "  [theme=dark] .colab-df-quickchart {\n",
              "      --bg-color: #3B4455;\n",
              "      --fill-color: #D2E3FC;\n",
              "      --hover-bg-color: #434B5C;\n",
              "      --hover-fill-color: #FFFFFF;\n",
              "      --disabled-bg-color: #3B4455;\n",
              "      --disabled-fill-color: #666;\n",
              "  }\n",
              "\n",
              "  .colab-df-quickchart {\n",
              "    background-color: var(--bg-color);\n",
              "    border: none;\n",
              "    border-radius: 50%;\n",
              "    cursor: pointer;\n",
              "    display: none;\n",
              "    fill: var(--fill-color);\n",
              "    height: 32px;\n",
              "    padding: 0;\n",
              "    width: 32px;\n",
              "  }\n",
              "\n",
              "  .colab-df-quickchart:hover {\n",
              "    background-color: var(--hover-bg-color);\n",
              "    box-shadow: 0 1px 2px rgba(60, 64, 67, 0.3), 0 1px 3px 1px rgba(60, 64, 67, 0.15);\n",
              "    fill: var(--button-hover-fill-color);\n",
              "  }\n",
              "\n",
              "  .colab-df-quickchart-complete:disabled,\n",
              "  .colab-df-quickchart-complete:disabled:hover {\n",
              "    background-color: var(--disabled-bg-color);\n",
              "    fill: var(--disabled-fill-color);\n",
              "    box-shadow: none;\n",
              "  }\n",
              "\n",
              "  .colab-df-spinner {\n",
              "    border: 2px solid var(--fill-color);\n",
              "    border-color: transparent;\n",
              "    border-bottom-color: var(--fill-color);\n",
              "    animation:\n",
              "      spin 1s steps(1) infinite;\n",
              "  }\n",
              "\n",
              "  @keyframes spin {\n",
              "    0% {\n",
              "      border-color: transparent;\n",
              "      border-bottom-color: var(--fill-color);\n",
              "      border-left-color: var(--fill-color);\n",
              "    }\n",
              "    20% {\n",
              "      border-color: transparent;\n",
              "      border-left-color: var(--fill-color);\n",
              "      border-top-color: var(--fill-color);\n",
              "    }\n",
              "    30% {\n",
              "      border-color: transparent;\n",
              "      border-left-color: var(--fill-color);\n",
              "      border-top-color: var(--fill-color);\n",
              "      border-right-color: var(--fill-color);\n",
              "    }\n",
              "    40% {\n",
              "      border-color: transparent;\n",
              "      border-right-color: var(--fill-color);\n",
              "      border-top-color: var(--fill-color);\n",
              "    }\n",
              "    60% {\n",
              "      border-color: transparent;\n",
              "      border-right-color: var(--fill-color);\n",
              "    }\n",
              "    80% {\n",
              "      border-color: transparent;\n",
              "      border-right-color: var(--fill-color);\n",
              "      border-bottom-color: var(--fill-color);\n",
              "    }\n",
              "    90% {\n",
              "      border-color: transparent;\n",
              "      border-bottom-color: var(--fill-color);\n",
              "    }\n",
              "  }\n",
              "</style>\n",
              "\n",
              "      <script>\n",
              "        async function quickchart(key) {\n",
              "          const quickchartButtonEl =\n",
              "            document.querySelector('#' + key + ' button');\n",
              "          quickchartButtonEl.disabled = true;  // To prevent multiple clicks.\n",
              "          quickchartButtonEl.classList.add('colab-df-spinner');\n",
              "          try {\n",
              "            const charts = await google.colab.kernel.invokeFunction(\n",
              "                'suggestCharts', [key], {});\n",
              "          } catch (error) {\n",
              "            console.error('Error during call to suggestCharts:', error);\n",
              "          }\n",
              "          quickchartButtonEl.classList.remove('colab-df-spinner');\n",
              "          quickchartButtonEl.classList.add('colab-df-quickchart-complete');\n",
              "        }\n",
              "        (() => {\n",
              "          let quickchartButtonEl =\n",
              "            document.querySelector('#df-02d7ca81-0e6e-4048-9a0e-2fab0661771b button');\n",
              "          quickchartButtonEl.style.display =\n",
              "            google.colab.kernel.accessAllowed ? 'block' : 'none';\n",
              "        })();\n",
              "      </script>\n",
              "    </div>\n",
              "\n",
              "    </div>\n",
              "  </div>\n"
            ],
            "application/vnd.google.colaboratory.intrinsic+json": {
              "type": "dataframe"
            }
          },
          "metadata": {},
          "execution_count": 17
        }
      ],
      "source": [
        "data.tail(3)"
      ]
    },
    {
      "cell_type": "code",
      "execution_count": 17,
      "metadata": {
        "id": "PzXAdkOx7OjA"
      },
      "outputs": [],
      "source": []
    },
    {
      "cell_type": "markdown",
      "metadata": {
        "id": "LE8-MQ5c7OjB"
      },
      "source": [
        ".........................................................![image.png](attachment:19d86cf9-39cc-4860-8ec2-a09a860fc129.png)"
      ]
    },
    {
      "cell_type": "code",
      "execution_count": 18,
      "metadata": {
        "colab": {
          "base_uri": "https://localhost:8080/"
        },
        "id": "yXDgTXNz7OjC",
        "outputId": "30fc50b7-288a-4a33-d217-2be1bfcf9414"
      },
      "outputs": [
        {
          "output_type": "stream",
          "name": "stdout",
          "text": [
            "(8082, 502)\n",
            "<class 'pandas.core.frame.DataFrame'>\n",
            "RangeIndex: 8082 entries, 0 to 8081\n",
            "Columns: 502 entries, DATE to NYSE.ZTS\n",
            "dtypes: float64(501), int64(1)\n",
            "memory usage: 31.0 MB\n"
          ]
        }
      ],
      "source": [
        "print(data.shape)\n",
        "data.info()"
      ]
    },
    {
      "cell_type": "code",
      "execution_count": 18,
      "metadata": {
        "id": "0n15dBfo7OjD"
      },
      "outputs": [],
      "source": []
    },
    {
      "cell_type": "code",
      "execution_count": 19,
      "metadata": {
        "id": "8j99Mw5Y7OjH"
      },
      "outputs": [],
      "source": [
        "# We have 501 float64 and one int64 variables. All data are numerical!"
      ]
    },
    {
      "cell_type": "markdown",
      "metadata": {
        "id": "ubSEm1qi7OjI"
      },
      "source": [
        ".........................................................![image.png](attachment:efc952ed-49e8-4898-b733-0cd6b4c5efc3.png)"
      ]
    },
    {
      "cell_type": "code",
      "execution_count": 20,
      "metadata": {
        "colab": {
          "base_uri": "https://localhost:8080/",
          "height": 458
        },
        "id": "baahDlXa7OjK",
        "outputId": "8c977034-0a2b-4ca9-a790-081feed9716e"
      },
      "outputs": [
        {
          "output_type": "execute_result",
          "data": {
            "text/plain": [
              "DATE             int64\n",
              "SP500          float64\n",
              "NASDAQ.AAL     float64\n",
              "NASDAQ.AAPL    float64\n",
              "NASDAQ.ADBE    float64\n",
              "                ...   \n",
              "NYSE.XRX       float64\n",
              "NYSE.XYL       float64\n",
              "NYSE.YUM       float64\n",
              "NYSE.ZBH       float64\n",
              "NYSE.ZTS       float64\n",
              "Length: 502, dtype: object"
            ],
            "text/html": [
              "<div>\n",
              "<style scoped>\n",
              "    .dataframe tbody tr th:only-of-type {\n",
              "        vertical-align: middle;\n",
              "    }\n",
              "\n",
              "    .dataframe tbody tr th {\n",
              "        vertical-align: top;\n",
              "    }\n",
              "\n",
              "    .dataframe thead th {\n",
              "        text-align: right;\n",
              "    }\n",
              "</style>\n",
              "<table border=\"1\" class=\"dataframe\">\n",
              "  <thead>\n",
              "    <tr style=\"text-align: right;\">\n",
              "      <th></th>\n",
              "      <th>0</th>\n",
              "    </tr>\n",
              "  </thead>\n",
              "  <tbody>\n",
              "    <tr>\n",
              "      <th>DATE</th>\n",
              "      <td>int64</td>\n",
              "    </tr>\n",
              "    <tr>\n",
              "      <th>SP500</th>\n",
              "      <td>float64</td>\n",
              "    </tr>\n",
              "    <tr>\n",
              "      <th>NASDAQ.AAL</th>\n",
              "      <td>float64</td>\n",
              "    </tr>\n",
              "    <tr>\n",
              "      <th>NASDAQ.AAPL</th>\n",
              "      <td>float64</td>\n",
              "    </tr>\n",
              "    <tr>\n",
              "      <th>NASDAQ.ADBE</th>\n",
              "      <td>float64</td>\n",
              "    </tr>\n",
              "    <tr>\n",
              "      <th>...</th>\n",
              "      <td>...</td>\n",
              "    </tr>\n",
              "    <tr>\n",
              "      <th>NYSE.XRX</th>\n",
              "      <td>float64</td>\n",
              "    </tr>\n",
              "    <tr>\n",
              "      <th>NYSE.XYL</th>\n",
              "      <td>float64</td>\n",
              "    </tr>\n",
              "    <tr>\n",
              "      <th>NYSE.YUM</th>\n",
              "      <td>float64</td>\n",
              "    </tr>\n",
              "    <tr>\n",
              "      <th>NYSE.ZBH</th>\n",
              "      <td>float64</td>\n",
              "    </tr>\n",
              "    <tr>\n",
              "      <th>NYSE.ZTS</th>\n",
              "      <td>float64</td>\n",
              "    </tr>\n",
              "  </tbody>\n",
              "</table>\n",
              "<p>502 rows × 1 columns</p>\n",
              "</div><br><label><b>dtype:</b> object</label>"
            ]
          },
          "metadata": {},
          "execution_count": 20
        }
      ],
      "source": [
        "data.dtypes"
      ]
    },
    {
      "cell_type": "code",
      "execution_count": 20,
      "metadata": {
        "id": "z_pj3IuB7Ojm"
      },
      "outputs": [],
      "source": []
    },
    {
      "cell_type": "code",
      "execution_count": 21,
      "metadata": {
        "id": "4p-5YrbK7Ojx"
      },
      "outputs": [],
      "source": [
        "# So we actually have 500 shares prices and an Index price for each minute"
      ]
    },
    {
      "cell_type": "markdown",
      "metadata": {
        "id": "Igey6TMy7Ojz"
      },
      "source": [
        ".........................................................![image.png](attachment:18e16300-3a0f-436d-8d3c-48638737c299.png)"
      ]
    },
    {
      "cell_type": "code",
      "execution_count": 22,
      "metadata": {
        "colab": {
          "base_uri": "https://localhost:8080/",
          "height": 668
        },
        "id": "2j3jfsIz7Oj0",
        "outputId": "9dc04847-d6cf-4e72-e3bf-36cfc2cb6d56"
      },
      "outputs": [
        {
          "output_type": "execute_result",
          "data": {
            "text/plain": [
              "Text(0.5, 0, 'Price')"
            ]
          },
          "metadata": {},
          "execution_count": 22
        },
        {
          "output_type": "display_data",
          "data": {
            "text/plain": [
              "<Figure size 1500x700 with 1 Axes>"
            ],
            "image/png": "[encoded data removed]"
          },
          "metadata": {}
        }
      ],
      "source": [
        "plt.figure(num=1 , figsize=(15,7))\n",
        "plt.hist(data['NYSE.XEL'],bins=1000)\n",
        "plt.title('NYSE.XEL price distribution' ,size=18)\n",
        "plt.ylabel('Numbers',size=14)\n",
        "plt.xlabel('Price',size=14)"
      ]
    },
    {
      "cell_type": "code",
      "execution_count": 22,
      "metadata": {
        "id": "JHq8DfDV7Oj2"
      },
      "outputs": [],
      "source": []
    },
    {
      "cell_type": "code",
      "execution_count": 23,
      "metadata": {
        "id": "rS_jAKwt7Oj6"
      },
      "outputs": [],
      "source": [
        "# Guess visually where the support and resistance levels were"
      ]
    },
    {
      "cell_type": "markdown",
      "metadata": {
        "id": "iOA7Cs4c7OkB"
      },
      "source": [
        ".........................................................![image.png](attachment:ec73b313-3e44-4e56-96f9-64b56e054365.png)"
      ]
    },
    {
      "cell_type": "code",
      "execution_count": 24,
      "metadata": {
        "colab": {
          "base_uri": "https://localhost:8080/",
          "height": 616
        },
        "id": "wmNft7LZ7OkL",
        "outputId": "c9d1aafe-5e42-4f26-ac16-00d89b12aaca"
      },
      "outputs": [
        {
          "output_type": "execute_result",
          "data": {
            "text/plain": [
              "[<matplotlib.lines.Line2D at 0x7ed54fdaecc0>]"
            ]
          },
          "metadata": {},
          "execution_count": 24
        },
        {
          "output_type": "display_data",
          "data": {
            "text/plain": [
              "<Figure size 1500x700 with 1 Axes>"
            ],
            "image/png": "[encoded data removed]"
          },
          "metadata": {}
        }
      ],
      "source": [
        "plt.figure(num=1,figsize=(15,7))\n",
        "plt.plot(data['SP500'])\n"
      ]
    },
    {
      "cell_type": "code",
      "execution_count": 24,
      "metadata": {
        "id": "L8lfL2tu7OqF"
      },
      "outputs": [],
      "source": []
    },
    {
      "cell_type": "markdown",
      "metadata": {
        "id": "7mXVZpBb7OqF"
      },
      "source": [
        ".........................................................![image.png](attachment:ad3190a3-a9c4-476e-9c39-8f0a33ce57b1.png)"
      ]
    },
    {
      "cell_type": "code",
      "execution_count": 25,
      "metadata": {
        "id": "v7D5XSDq7OqG"
      },
      "outputs": [],
      "source": [
        "data=data.drop(['DATE'],axis=1)"
      ]
    },
    {
      "cell_type": "code",
      "execution_count": 25,
      "metadata": {
        "id": "WqkuXb0G7OqH"
      },
      "outputs": [],
      "source": []
    },
    {
      "cell_type": "markdown",
      "metadata": {
        "id": "3wabE6737OqH"
      },
      "source": [
        ".........................................................![image.png](attachment:ff7de325-f0ec-46fa-8733-05707b97c0a9.png)"
      ]
    },
    {
      "cell_type": "code",
      "execution_count": 26,
      "metadata": {
        "colab": {
          "base_uri": "https://localhost:8080/"
        },
        "id": "EX1SZ_bE7OqH",
        "outputId": "01a8a82d-7493-4578-e519-458981bab2df"
      },
      "outputs": [
        {
          "output_type": "execute_result",
          "data": {
            "text/plain": [
              "(8082, 501)"
            ]
          },
          "metadata": {},
          "execution_count": 26
        }
      ],
      "source": [
        "data.shape"
      ]
    },
    {
      "cell_type": "code",
      "execution_count": 26,
      "metadata": {
        "id": "zp30_6Zj7OqJ"
      },
      "outputs": [],
      "source": []
    },
    {
      "cell_type": "code",
      "execution_count": 26,
      "metadata": {
        "id": "9iZ0ehMf7OqJ"
      },
      "outputs": [],
      "source": []
    },
    {
      "cell_type": "markdown",
      "metadata": {
        "id": "4-WkyeJY7OqK"
      },
      "source": [
        "<html> <h3 style=\"font-style:italic; color:blue;\">  \n",
        "The aim is to forecast the S&P-500 index prices soon (in our example, the S&P-500 price in the next minute). It requires some data preprocessing.\n",
        "    \n",
        "You have to shift the S&P-500 forward one minute so that each row contains the prices of 500 shares in the current minute and the S&P-500 index price in the next minute.\n",
        "</h3> </html>"
      ]
    },
    {
      "cell_type": "markdown",
      "metadata": {
        "id": "5eRPJl_w7OqK"
      },
      "source": [
        ".........................................................![image.png](attachment:da1020e8-40ad-49d5-a978-e75343c7490e.png)"
      ]
    },
    {
      "cell_type": "code",
      "execution_count": 27,
      "metadata": {
        "colab": {
          "base_uri": "https://localhost:8080/",
          "height": 458
        },
        "id": "wBrek4dY7OqK",
        "outputId": "1685124d-7fc7-4767-bafd-1510515e17a9"
      },
      "outputs": [
        {
          "output_type": "execute_result",
          "data": {
            "text/plain": [
              "0       2363.6101\n",
              "1       2364.1001\n",
              "2       2362.6799\n",
              "3       2364.3101\n",
              "4       2364.8501\n",
              "          ...    \n",
              "8077    2390.4500\n",
              "8078    2390.4299\n",
              "8079    2390.1499\n",
              "8080    2390.0100\n",
              "8081    2389.5901\n",
              "Name: SP500, Length: 8082, dtype: float64"
            ],
            "text/html": [
              "<div>\n",
              "<style scoped>\n",
              "    .dataframe tbody tr th:only-of-type {\n",
              "        vertical-align: middle;\n",
              "    }\n",
              "\n",
              "    .dataframe tbody tr th {\n",
              "        vertical-align: top;\n",
              "    }\n",
              "\n",
              "    .dataframe thead th {\n",
              "        text-align: right;\n",
              "    }\n",
              "</style>\n",
              "<table border=\"1\" class=\"dataframe\">\n",
              "  <thead>\n",
              "    <tr style=\"text-align: right;\">\n",
              "      <th></th>\n",
              "      <th>SP500</th>\n",
              "    </tr>\n",
              "  </thead>\n",
              "  <tbody>\n",
              "    <tr>\n",
              "      <th>0</th>\n",
              "      <td>2363.6101</td>\n",
              "    </tr>\n",
              "    <tr>\n",
              "      <th>1</th>\n",
              "      <td>2364.1001</td>\n",
              "    </tr>\n",
              "    <tr>\n",
              "      <th>2</th>\n",
              "      <td>2362.6799</td>\n",
              "    </tr>\n",
              "    <tr>\n",
              "      <th>3</th>\n",
              "      <td>2364.3101</td>\n",
              "    </tr>\n",
              "    <tr>\n",
              "      <th>4</th>\n",
              "      <td>2364.8501</td>\n",
              "    </tr>\n",
              "    <tr>\n",
              "      <th>...</th>\n",
              "      <td>...</td>\n",
              "    </tr>\n",
              "    <tr>\n",
              "      <th>8077</th>\n",
              "      <td>2390.4500</td>\n",
              "    </tr>\n",
              "    <tr>\n",
              "      <th>8078</th>\n",
              "      <td>2390.4299</td>\n",
              "    </tr>\n",
              "    <tr>\n",
              "      <th>8079</th>\n",
              "      <td>2390.1499</td>\n",
              "    </tr>\n",
              "    <tr>\n",
              "      <th>8080</th>\n",
              "      <td>2390.0100</td>\n",
              "    </tr>\n",
              "    <tr>\n",
              "      <th>8081</th>\n",
              "      <td>2389.5901</td>\n",
              "    </tr>\n",
              "  </tbody>\n",
              "</table>\n",
              "<p>8082 rows × 1 columns</p>\n",
              "</div><br><label><b>dtype:</b> float64</label>"
            ]
          },
          "metadata": {},
          "execution_count": 27
        }
      ],
      "source": [
        "data['SP500']"
      ]
    },
    {
      "cell_type": "code",
      "execution_count": 27,
      "metadata": {
        "id": "bt5JFPHv7OqK"
      },
      "outputs": [],
      "source": []
    },
    {
      "cell_type": "code",
      "execution_count": 27,
      "metadata": {
        "id": "JUGqMhte7OqL"
      },
      "outputs": [],
      "source": []
    },
    {
      "cell_type": "markdown",
      "metadata": {
        "id": "E3-6LXbX7OqL"
      },
      "source": [
        ".........................................................![image.png](attachment:417cb6c7-19cd-484e-ab13-c03ff2206d28.png)"
      ]
    },
    {
      "cell_type": "code",
      "execution_count": 28,
      "metadata": {
        "colab": {
          "base_uri": "https://localhost:8080/",
          "height": 458
        },
        "id": "qIq3UYL67OqL",
        "outputId": "c129aa14-9507-449a-8080-c4ae85fb51d9"
      },
      "outputs": [
        {
          "output_type": "execute_result",
          "data": {
            "text/plain": [
              "0       2364.1001\n",
              "1       2362.6799\n",
              "2       2364.3101\n",
              "3       2364.8501\n",
              "4       2365.6201\n",
              "          ...    \n",
              "8077    2390.4299\n",
              "8078    2390.1499\n",
              "8079    2390.0100\n",
              "8080    2389.5901\n",
              "8081          NaN\n",
              "Name: SP500, Length: 8082, dtype: float64"
            ],
            "text/html": [
              "<div>\n",
              "<style scoped>\n",
              "    .dataframe tbody tr th:only-of-type {\n",
              "        vertical-align: middle;\n",
              "    }\n",
              "\n",
              "    .dataframe tbody tr th {\n",
              "        vertical-align: top;\n",
              "    }\n",
              "\n",
              "    .dataframe thead th {\n",
              "        text-align: right;\n",
              "    }\n",
              "</style>\n",
              "<table border=\"1\" class=\"dataframe\">\n",
              "  <thead>\n",
              "    <tr style=\"text-align: right;\">\n",
              "      <th></th>\n",
              "      <th>SP500</th>\n",
              "    </tr>\n",
              "  </thead>\n",
              "  <tbody>\n",
              "    <tr>\n",
              "      <th>0</th>\n",
              "      <td>2364.1001</td>\n",
              "    </tr>\n",
              "    <tr>\n",
              "      <th>1</th>\n",
              "      <td>2362.6799</td>\n",
              "    </tr>\n",
              "    <tr>\n",
              "      <th>2</th>\n",
              "      <td>2364.3101</td>\n",
              "    </tr>\n",
              "    <tr>\n",
              "      <th>3</th>\n",
              "      <td>2364.8501</td>\n",
              "    </tr>\n",
              "    <tr>\n",
              "      <th>4</th>\n",
              "      <td>2365.6201</td>\n",
              "    </tr>\n",
              "    <tr>\n",
              "      <th>...</th>\n",
              "      <td>...</td>\n",
              "    </tr>\n",
              "    <tr>\n",
              "      <th>8077</th>\n",
              "      <td>2390.4299</td>\n",
              "    </tr>\n",
              "    <tr>\n",
              "      <th>8078</th>\n",
              "      <td>2390.1499</td>\n",
              "    </tr>\n",
              "    <tr>\n",
              "      <th>8079</th>\n",
              "      <td>2390.0100</td>\n",
              "    </tr>\n",
              "    <tr>\n",
              "      <th>8080</th>\n",
              "      <td>2389.5901</td>\n",
              "    </tr>\n",
              "    <tr>\n",
              "      <th>8081</th>\n",
              "      <td>NaN</td>\n",
              "    </tr>\n",
              "  </tbody>\n",
              "</table>\n",
              "<p>8082 rows × 1 columns</p>\n",
              "</div><br><label><b>dtype:</b> float64</label>"
            ]
          },
          "metadata": {},
          "execution_count": 28
        }
      ],
      "source": [
        "data['SP500']=data['SP500'].shift(-1)\n",
        "data['SP500']"
      ]
    },
    {
      "cell_type": "code",
      "execution_count": 28,
      "metadata": {
        "id": "KOe6uK0Q7OqM"
      },
      "outputs": [],
      "source": []
    },
    {
      "cell_type": "code",
      "execution_count": 29,
      "metadata": {
        "id": "cW1i9vLG7OqU"
      },
      "outputs": [],
      "source": [
        "# You can see that the S&P prices column was shifted up"
      ]
    },
    {
      "cell_type": "markdown",
      "metadata": {
        "id": "aFEDqNKG7OqW"
      },
      "source": [
        ".........................................................![image.png](attachment:524e07fa-b517-4139-aed9-3f6f5034dfed.png)"
      ]
    },
    {
      "cell_type": "code",
      "execution_count": 30,
      "metadata": {
        "colab": {
          "base_uri": "https://localhost:8080/",
          "height": 458
        },
        "id": "WpeWJ_3z7OqX",
        "outputId": "ca6d06d5-f59e-40b9-dfbd-a4f56ff50166"
      },
      "outputs": [
        {
          "output_type": "execute_result",
          "data": {
            "text/plain": [
              "0       2364.1001\n",
              "1       2362.6799\n",
              "2       2364.3101\n",
              "3       2364.8501\n",
              "4       2365.6201\n",
              "          ...    \n",
              "8076    2390.4500\n",
              "8077    2390.4299\n",
              "8078    2390.1499\n",
              "8079    2390.0100\n",
              "8080    2389.5901\n",
              "Name: SP500, Length: 8081, dtype: float64"
            ],
            "text/html": [
              "<div>\n",
              "<style scoped>\n",
              "    .dataframe tbody tr th:only-of-type {\n",
              "        vertical-align: middle;\n",
              "    }\n",
              "\n",
              "    .dataframe tbody tr th {\n",
              "        vertical-align: top;\n",
              "    }\n",
              "\n",
              "    .dataframe thead th {\n",
              "        text-align: right;\n",
              "    }\n",
              "</style>\n",
              "<table border=\"1\" class=\"dataframe\">\n",
              "  <thead>\n",
              "    <tr style=\"text-align: right;\">\n",
              "      <th></th>\n",
              "      <th>SP500</th>\n",
              "    </tr>\n",
              "  </thead>\n",
              "  <tbody>\n",
              "    <tr>\n",
              "      <th>0</th>\n",
              "      <td>2364.1001</td>\n",
              "    </tr>\n",
              "    <tr>\n",
              "      <th>1</th>\n",
              "      <td>2362.6799</td>\n",
              "    </tr>\n",
              "    <tr>\n",
              "      <th>2</th>\n",
              "      <td>2364.3101</td>\n",
              "    </tr>\n",
              "    <tr>\n",
              "      <th>3</th>\n",
              "      <td>2364.8501</td>\n",
              "    </tr>\n",
              "    <tr>\n",
              "      <th>4</th>\n",
              "      <td>2365.6201</td>\n",
              "    </tr>\n",
              "    <tr>\n",
              "      <th>...</th>\n",
              "      <td>...</td>\n",
              "    </tr>\n",
              "    <tr>\n",
              "      <th>8076</th>\n",
              "      <td>2390.4500</td>\n",
              "    </tr>\n",
              "    <tr>\n",
              "      <th>8077</th>\n",
              "      <td>2390.4299</td>\n",
              "    </tr>\n",
              "    <tr>\n",
              "      <th>8078</th>\n",
              "      <td>2390.1499</td>\n",
              "    </tr>\n",
              "    <tr>\n",
              "      <th>8079</th>\n",
              "      <td>2390.0100</td>\n",
              "    </tr>\n",
              "    <tr>\n",
              "      <th>8080</th>\n",
              "      <td>2389.5901</td>\n",
              "    </tr>\n",
              "  </tbody>\n",
              "</table>\n",
              "<p>8081 rows × 1 columns</p>\n",
              "</div><br><label><b>dtype:</b> float64</label>"
            ]
          },
          "metadata": {},
          "execution_count": 30
        }
      ],
      "source": [
        "data=data.dropna(axis=0)\n",
        "data['SP500']"
      ]
    },
    {
      "cell_type": "code",
      "execution_count": 30,
      "metadata": {
        "id": "MSd8G4Dr7OqY"
      },
      "outputs": [],
      "source": []
    },
    {
      "cell_type": "markdown",
      "metadata": {
        "id": "hCiKZcHW7OqY"
      },
      "source": [
        ".........................................................![image.png](attachment:b32bc6bd-8550-48e5-aa64-2828cb8687f1.png)"
      ]
    },
    {
      "cell_type": "code",
      "execution_count": 31,
      "metadata": {
        "id": "U2-dlzMY7OqZ"
      },
      "outputs": [],
      "source": []
    },
    {
      "cell_type": "code",
      "execution_count": 31,
      "metadata": {
        "id": "GfJcbOC_7Oqb"
      },
      "outputs": [],
      "source": [
        "# Now we have one row less"
      ]
    },
    {
      "cell_type": "markdown",
      "metadata": {
        "id": "27_AjxRB7Oqb"
      },
      "source": [
        ".........................................................![image.png](attachment:e8dea7b1-c065-4a07-b0b3-eff78d47db8e.png)"
      ]
    },
    {
      "cell_type": "code",
      "execution_count": 32,
      "metadata": {
        "colab": {
          "base_uri": "https://localhost:8080/"
        },
        "id": "zJKGd8aO7Oqc",
        "outputId": "2b3258e4-0885-436e-e09d-8e589213a5e2"
      },
      "outputs": [
        {
          "output_type": "stream",
          "name": "stdout",
          "text": [
            "data_a:\n",
            "[[2364.1001   42.33    143.68   ...   63.86    122.       53.35  ]\n",
            " [2362.6799   42.36    143.7    ...   63.74    121.77     53.35  ]\n",
            " [2364.3101   42.31    143.6901 ...   63.75    121.7      53.365 ]\n",
            " [2364.8501   42.37    143.64   ...   63.88    121.7      53.38  ]\n",
            " [2365.6201   42.5378  143.66   ...   63.91    121.695    53.24  ]] \n",
            "\n",
            "[[2390.45     43.61    147.1    ...   66.09    120.72     56.275 ]\n",
            " [2390.4299   43.58    147.12   ...   66.08    120.7      56.3   ]\n",
            " [2390.1499   43.5801  147.12   ...   65.995   120.69     56.25  ]\n",
            " [2390.01     43.59    147.1    ...   66.005   120.73     56.22  ]\n",
            " [2389.5901   43.59    147.06   ...   66.05    120.69     56.21  ]]\n",
            "type: float64\n"
          ]
        }
      ],
      "source": [
        "data_a= np.array(data)\n",
        "print(\"data_a:\")\n",
        "print(data_a[:5,:],'\\n')\n",
        "print(data_a[-5:,:])\n",
        "print(\"type:\",data_a.dtype)"
      ]
    },
    {
      "cell_type": "code",
      "execution_count": 32,
      "metadata": {
        "id": "07k64i0-7Oqc"
      },
      "outputs": [],
      "source": []
    },
    {
      "cell_type": "markdown",
      "metadata": {
        "id": "N7QX1H2E7Oqh"
      },
      "source": [
        ".........................................................![image.png](attachment:ed172b0d-bac6-45ea-a33a-b68014f00608.png)"
      ]
    },
    {
      "cell_type": "code",
      "execution_count": 33,
      "metadata": {
        "colab": {
          "base_uri": "https://localhost:8080/"
        },
        "id": "w9UMvoCM7Oqi",
        "outputId": "bbf0ddc9-bbb0-472f-cf51-6292e81f5e60"
      },
      "outputs": [
        {
          "output_type": "execute_result",
          "data": {
            "text/plain": [
              "[]"
            ]
          },
          "metadata": {},
          "execution_count": 33
        }
      ],
      "source": [
        "data=[]\n",
        "data"
      ]
    },
    {
      "cell_type": "code",
      "execution_count": 33,
      "metadata": {
        "id": "IlCX7o5m7Oqi"
      },
      "outputs": [],
      "source": []
    },
    {
      "cell_type": "code",
      "execution_count": 33,
      "metadata": {
        "id": "06_e93YG7Oqj"
      },
      "outputs": [],
      "source": []
    },
    {
      "cell_type": "markdown",
      "metadata": {
        "id": "XuxfP3SU7Oqj"
      },
      "source": [
        "<html> <h3 style=\"color:blue;\"> Data for training and testing </h3> </html>"
      ]
    },
    {
      "cell_type": "markdown",
      "metadata": {
        "id": "j5EWuNAf7Oqj"
      },
      "source": [
        ".........................................................![image.png](attachment:b1fb582e-7b59-45f7-904b-2f63f42fce26.png)"
      ]
    },
    {
      "cell_type": "code",
      "execution_count": 34,
      "metadata": {
        "colab": {
          "base_uri": "https://localhost:8080/"
        },
        "id": "HliBQx_U7Oqj",
        "outputId": "96656622-d186-4cdf-b721-a63892aa6ed8"
      },
      "outputs": [
        {
          "output_type": "stream",
          "name": "stdout",
          "text": [
            "6464\n"
          ]
        }
      ],
      "source": [
        "n=data_a.shape[0]\n",
        "train_start = 0\n",
        "train_end= int(np.floor(0.8*n))\n",
        "print(train_end)"
      ]
    },
    {
      "cell_type": "code",
      "execution_count": 34,
      "metadata": {
        "id": "IL0wl_wq7Oqk"
      },
      "outputs": [],
      "source": []
    },
    {
      "cell_type": "markdown",
      "metadata": {
        "id": "hhvXUmaY7Oqk"
      },
      "source": [
        ".........................................................![image.png](attachment:e92704ea-cb4a-4b30-9411-11a9535c65bf.png)"
      ]
    },
    {
      "cell_type": "code",
      "execution_count": 35,
      "metadata": {
        "colab": {
          "base_uri": "https://localhost:8080/"
        },
        "id": "cCPUHYl_7Oql",
        "outputId": "5b43259d-82f5-439c-aa4d-a22ab94fc088"
      },
      "outputs": [
        {
          "output_type": "stream",
          "name": "stdout",
          "text": [
            "6452\n"
          ]
        }
      ],
      "source": [
        "train_end-=12\n",
        "print(train_end)"
      ]
    },
    {
      "cell_type": "code",
      "execution_count": 35,
      "metadata": {
        "id": "BQQhxLnj7Oqm"
      },
      "outputs": [],
      "source": []
    },
    {
      "cell_type": "markdown",
      "metadata": {
        "id": "GBzS8PIO7Oqn"
      },
      "source": [
        ".........................................................![image.png](attachment:65cd57f0-b4c6-49e0-91bd-828e0f1e34bd.png)"
      ]
    },
    {
      "cell_type": "code",
      "execution_count": 36,
      "metadata": {
        "id": "gqGS6z1U7Oqo"
      },
      "outputs": [],
      "source": [
        "test_start=train_end\n",
        "test_end=n\n",
        "data_train=data_a[np.arange(train_start,train_end),:]\n",
        "data_test=data_a[np.arange(train_start,test_end),:]"
      ]
    },
    {
      "cell_type": "code",
      "execution_count": 36,
      "metadata": {
        "id": "GuT8M-lj7Oqo"
      },
      "outputs": [],
      "source": []
    },
    {
      "cell_type": "markdown",
      "metadata": {
        "id": "JoYL6ivC7Oqy"
      },
      "source": [
        ".........................................................![image.png](attachment:f822633d-115a-49cc-957a-cb782ce04440.png)"
      ]
    },
    {
      "cell_type": "code",
      "execution_count": 37,
      "metadata": {
        "colab": {
          "base_uri": "https://localhost:8080/"
        },
        "id": "yMtT-loy7Oq0",
        "outputId": "ce4933f7-9225-4d3f-ccd4-49c9fe638639"
      },
      "outputs": [
        {
          "output_type": "stream",
          "name": "stdout",
          "text": [
            "Data for training: (6452, 501)\n",
            "Data for testing: (8081, 501)\n"
          ]
        }
      ],
      "source": [
        "print('Data for training:',data_train.shape)\n",
        "print('Data for testing:',data_test.shape)"
      ]
    },
    {
      "cell_type": "code",
      "execution_count": 37,
      "metadata": {
        "id": "JFYERjXq7OrM"
      },
      "outputs": [],
      "source": []
    },
    {
      "cell_type": "markdown",
      "metadata": {
        "id": "2riWfvLW7OrV"
      },
      "source": [
        ".........................................................![image.png](attachment:8ef74910-a136-46dd-a90a-47d01ca91453.png)"
      ]
    },
    {
      "cell_type": "code",
      "execution_count": 38,
      "metadata": {
        "colab": {
          "base_uri": "https://localhost:8080/"
        },
        "id": "r62BDoRR7Orb",
        "outputId": "76b291b4-302c-49d4-a844-16e39d8488dd"
      },
      "outputs": [
        {
          "output_type": "execute_result",
          "data": {
            "text/plain": [
              "[]"
            ]
          },
          "metadata": {},
          "execution_count": 38
        }
      ],
      "source": [
        "data_a=[]\n",
        "data_a"
      ]
    },
    {
      "cell_type": "code",
      "execution_count": 38,
      "metadata": {
        "id": "mkqVTtay7Orc"
      },
      "outputs": [],
      "source": []
    },
    {
      "cell_type": "code",
      "execution_count": 38,
      "metadata": {
        "id": "IxZZZP4r7Orc"
      },
      "outputs": [],
      "source": []
    },
    {
      "cell_type": "markdown",
      "metadata": {
        "id": "yhCm3f147Ord"
      },
      "source": [
        "<html> <h3 style=\"color:blue;\"> Data normalisation </h3> </html>"
      ]
    },
    {
      "cell_type": "markdown",
      "metadata": {
        "id": "CqrBglzB7Ord"
      },
      "source": [
        "![image.png](attachment:da48fee3-b725-4785-816b-f531b7c65328.png)"
      ]
    },
    {
      "cell_type": "markdown",
      "metadata": {
        "id": "cg-pvsvv7Ore"
      },
      "source": [
        ".........................................................![image.png](attachment:70f276d6-f087-420a-bf84-2c0ce58b3f51.png)"
      ]
    },
    {
      "cell_type": "code",
      "execution_count": 39,
      "metadata": {
        "id": "KytSdL8O7Ore"
      },
      "outputs": [],
      "source": [
        "from sklearn.preprocessing import MinMaxScaler\n",
        "scaler=MinMaxScaler()"
      ]
    },
    {
      "cell_type": "code",
      "execution_count": 39,
      "metadata": {
        "id": "r4lc03h87Orf"
      },
      "outputs": [],
      "source": []
    },
    {
      "cell_type": "markdown",
      "metadata": {
        "id": "TLEH4JO37Orf"
      },
      "source": [
        "\n",
        "<html> <h3 style=\"color:red;\"> !!! Note: </h3> </html>\n",
        "\n",
        "<html> <h3 style=\"font-style:italic; color:blue;\">  \n",
        "\n",
        "A typical mistake when choosing a part of the data and time for scaling is to scale the entire dataset before dividing it into test and training data. It is a mistake because scaling starts the calculation of statistics, that is, minima/maxima of variables. When realising time series forecasting in real life, at the time of their generation, you cannot have information from observations in the future.\n",
        "\n",
        "Therefore, statistics should be calculated on the training data, and then the result should be applied to the test data. Otherwise, by taking information “from the future” to generate predictions (that is, from a test sample), the model will produce forecasts with “system bias.”\n",
        "\n",
        "</h3> </html>"
      ]
    },
    {
      "cell_type": "markdown",
      "metadata": {
        "id": "PxKkNu8K7Ors"
      },
      "source": [
        ".........................................................![image.png](attachment:0854ac19-9b7a-43c5-90bd-c8eebdb64e12.png)"
      ]
    },
    {
      "cell_type": "code",
      "execution_count": 40,
      "metadata": {
        "id": "GJwKuHHU7Oru"
      },
      "outputs": [],
      "source": [
        "scaler.fit(data_train)\n",
        "data_train_norm=scaler.transform(data_train)\n",
        "data_test_norm=scaler.transform(data_test)"
      ]
    },
    {
      "cell_type": "code",
      "execution_count": 40,
      "metadata": {
        "id": "N1Xx1RAf7Orv"
      },
      "outputs": [],
      "source": []
    },
    {
      "cell_type": "markdown",
      "metadata": {
        "id": "O5N5zAL27Orv"
      },
      "source": [
        ".........................................................![image.png](attachment:a802084b-2fa3-442d-9458-3e76dbe41412.png)"
      ]
    },
    {
      "cell_type": "code",
      "execution_count": 41,
      "metadata": {
        "colab": {
          "base_uri": "https://localhost:8080/"
        },
        "id": "Js961XOS7Orw",
        "outputId": "cb9e0de3-f861-4dfc-9b3c-4a5b7e707636"
      },
      "outputs": [
        {
          "output_type": "stream",
          "name": "stdout",
          "text": [
            "0.0\n",
            "1.0000000000000036 \n",
            "\n",
            "-2.3317865429234317\n",
            "3.9810891089109006\n"
          ]
        }
      ],
      "source": [
        "print(data_train_norm.min())\n",
        "print(data_train_norm.max(),'\\n')\n",
        "print(data_test_norm.min())\n",
        "print(data_test_norm.max())"
      ]
    },
    {
      "cell_type": "code",
      "execution_count": 41,
      "metadata": {
        "id": "XRxWKlkM7Orw"
      },
      "outputs": [],
      "source": []
    },
    {
      "cell_type": "markdown",
      "metadata": {
        "id": "rfmE7HIv7Orw"
      },
      "source": [
        "The first two numbers above mean that all columns (stock prices and S&P index price) are normalised in the range [0,1].\n",
        "In this case, the normalisation occurs for each column separately.\n",
        "\n",
        "The following two numbers mean that there are stocks (not necessarily all of them) whose prices changed during the last 20% period (test dataset) in broader ranges than they changed during the first 80% period (training dataset).\n",
        "\n",
        "It is acceptable that after normalisation, some stocks go beyond the range [0,1] since they still are in the same order with this range."
      ]
    },
    {
      "cell_type": "code",
      "execution_count": 41,
      "metadata": {
        "id": "VsSab89u7Orz"
      },
      "outputs": [],
      "source": []
    },
    {
      "cell_type": "markdown",
      "metadata": {
        "id": "FFiiTLkq7Or0"
      },
      "source": [
        "<html> <h3 style=\"color:blue;\"> A matrix of input parameters and an output vector for training and test datasets </h3> </html>\n"
      ]
    },
    {
      "cell_type": "code",
      "execution_count": 42,
      "metadata": {
        "id": "YyUJxObG7Or0"
      },
      "outputs": [],
      "source": [
        "# create two data sets:\n",
        "# for training: (X_train, y_train)\n",
        "# and for tests: (X_test, y_test)\n",
        "\n",
        "# X_train and X_test are matrixes with 1-minute time-frame prices of 500 stocks\n",
        "# y_train and y_test are S&P-500 values in the next minute"
      ]
    },
    {
      "cell_type": "markdown",
      "metadata": {
        "id": "5y_gM7iF7Or0"
      },
      "source": [
        ".........................................................![image.png](attachment:image.png)"
      ]
    },
    {
      "cell_type": "code",
      "execution_count": 43,
      "metadata": {
        "id": "LrJ0FkYW7Or8"
      },
      "outputs": [],
      "source": [
        "x_train=data_train_norm[:,1:]\n",
        "y_train=data_train_norm[:,0]\n",
        "x_test=data_test_norm[:,1:]\n",
        "y_test=data_test_norm[:,0]"
      ]
    },
    {
      "cell_type": "code",
      "execution_count": 43,
      "metadata": {
        "id": "SmNtUebS7Or_"
      },
      "outputs": [],
      "source": []
    },
    {
      "cell_type": "markdown",
      "metadata": {
        "id": "t2pXkprZ7Or_"
      },
      "source": [
        ".........................................................![image.png](attachment:21772b3c-cdf1-414c-936a-8775e186df88.png)"
      ]
    },
    {
      "cell_type": "code",
      "execution_count": 44,
      "metadata": {
        "colab": {
          "base_uri": "https://localhost:8080/"
        },
        "id": "9YaJ5R6E7Or_",
        "outputId": "f61f49dd-cab3-4cf9-b944-9e1ae2521a9d"
      },
      "outputs": [
        {
          "output_type": "stream",
          "name": "stdout",
          "text": [
            "(6452, 500)\n",
            "(6452,)\n",
            "(8081, 500)\n",
            "(8081,)\n"
          ]
        }
      ],
      "source": [
        "print(x_train.shape)\n",
        "print(y_train.shape)\n",
        "print(x_test.shape)\n",
        "print(y_test.shape)\n"
      ]
    },
    {
      "cell_type": "code",
      "execution_count": 44,
      "metadata": {
        "id": "zHet9CTL7OsQ"
      },
      "outputs": [],
      "source": []
    },
    {
      "cell_type": "code",
      "execution_count": 44,
      "metadata": {
        "id": "vFJX58m-7OsR"
      },
      "outputs": [],
      "source": []
    },
    {
      "cell_type": "markdown",
      "metadata": {
        "id": "9TvIMtl97OsS"
      },
      "source": [
        "<html> <h2 style=\"color:blue;\"> Neural Network (Multilayer Perceptron - MLP) </h2> </html>"
      ]
    },
    {
      "cell_type": "markdown",
      "metadata": {
        "id": "_tddbR6z7OsS"
      },
      "source": [
        "#### Now just press 'CTRL' and 'ENTER' keys on the next cells."
      ]
    },
    {
      "cell_type": "code",
      "execution_count": 45,
      "metadata": {
        "id": "oFQj11PW7OsS"
      },
      "outputs": [],
      "source": [
        "# import TensorFlow and Keras\n",
        "\n",
        "import tensorflow as tf\n",
        "from tensorflow import keras"
      ]
    },
    {
      "cell_type": "code",
      "execution_count": 46,
      "metadata": {
        "id": "EjeEbWDM7OsT"
      },
      "outputs": [],
      "source": [
        "# If you have a problem with TensorFlow import as shown above,\n",
        "# you have to install TensorFlow:\n",
        "# Otherwise, please ignore the next two cells\n"
      ]
    },
    {
      "cell_type": "code",
      "execution_count": 47,
      "metadata": {
        "colab": {
          "base_uri": "https://localhost:8080/"
        },
        "id": "Wnz2F-0v7OsT",
        "outputId": "8723aa46-e118-4bec-8ead-90e5e17f771f"
      },
      "outputs": [
        {
          "output_type": "stream",
          "name": "stdout",
          "text": [
            "Requirement already satisfied: pip in /usr/local/lib/python3.12/dist-packages (24.1.2)\n",
            "Collecting pip\n",
            "  Downloading pip-25.2-py3-none-any.whl.metadata (4.7 kB)\n",
            "Downloading pip-25.2-py3-none-any.whl (1.8 MB)\n",
            "\u001b[2K   \u001b[90m━━━━━━━━━━━━━━━━━━━━━━━━━━━━━━━━━━━━━━━━\u001b[0m \u001b[32m1.8/1.8 MB\u001b[0m \u001b[31m48.9 MB/s\u001b[0m eta \u001b[36m0:00:00\u001b[0m\n",
            "\u001b[?25hInstalling collected packages: pip\n",
            "  Attempting uninstall: pip\n",
            "    Found existing installation: pip 24.1.2\n",
            "    Uninstalling pip-24.1.2:\n",
            "      Successfully uninstalled pip-24.1.2\n",
            "Successfully installed pip-25.2\n"
          ]
        }
      ],
      "source": [
        "pip install --upgrade pip"
      ]
    },
    {
      "cell_type": "code",
      "execution_count": 48,
      "metadata": {
        "colab": {
          "base_uri": "https://localhost:8080/"
        },
        "id": "2Zobyjaq7OsX",
        "outputId": "62206ecb-36ff-4be9-f1d9-858e46afc7a8"
      },
      "outputs": [
        {
          "output_type": "stream",
          "name": "stdout",
          "text": [
            "Requirement already satisfied: tensorflow in /usr/local/lib/python3.12/dist-packages (2.19.0)\n",
            "Requirement already satisfied: absl-py>=1.0.0 in /usr/local/lib/python3.12/dist-packages (from tensorflow) (1.4.0)\n",
            "Requirement already satisfied: astunparse>=1.6.0 in /usr/local/lib/python3.12/dist-packages (from tensorflow) (1.6.3)\n",
            "Requirement already satisfied: flatbuffers>=24.3.25 in /usr/local/lib/python3.12/dist-packages (from tensorflow) (25.9.23)\n",
            "Requirement already satisfied: gast!=0.5.0,!=0.5.1,!=0.5.2,>=0.2.1 in /usr/local/lib/python3.12/dist-packages (from tensorflow) (0.6.0)\n",
            "Requirement already satisfied: google-pasta>=0.1.1 in /usr/local/lib/python3.12/dist-packages (from tensorflow) (0.2.0)\n",
            "Requirement already satisfied: libclang>=13.0.0 in /usr/local/lib/python3.12/dist-packages (from tensorflow) (18.1.1)\n",
            "Requirement already satisfied: opt-einsum>=2.3.2 in /usr/local/lib/python3.12/dist-packages (from tensorflow) (3.4.0)\n",
            "Requirement already satisfied: packaging in /usr/local/lib/python3.12/dist-packages (from tensorflow) (25.0)\n",
            "Requirement already satisfied: protobuf!=4.21.0,!=4.21.1,!=4.21.2,!=4.21.3,!=4.21.4,!=4.21.5,<6.0.0dev,>=3.20.3 in /usr/local/lib/python3.12/dist-packages (from tensorflow) (5.29.5)\n",
            "Requirement already satisfied: requests<3,>=2.21.0 in /usr/local/lib/python3.12/dist-packages (from tensorflow) (2.32.4)\n",
            "Requirement already satisfied: setuptools in /usr/local/lib/python3.12/dist-packages (from tensorflow) (75.2.0)\n",
            "Requirement already satisfied: six>=1.12.0 in /usr/local/lib/python3.12/dist-packages (from tensorflow) (1.17.0)\n",
            "Requirement already satisfied: termcolor>=1.1.0 in /usr/local/lib/python3.12/dist-packages (from tensorflow) (3.1.0)\n",
            "Requirement already satisfied: typing-extensions>=3.6.6 in /usr/local/lib/python3.12/dist-packages (from tensorflow) (4.15.0)\n",
            "Requirement already satisfied: wrapt>=1.11.0 in /usr/local/lib/python3.12/dist-packages (from tensorflow) (1.17.3)\n",
            "Requirement already satisfied: grpcio<2.0,>=1.24.3 in /usr/local/lib/python3.12/dist-packages (from tensorflow) (1.75.1)\n",
            "Requirement already satisfied: tensorboard~=2.19.0 in /usr/local/lib/python3.12/dist-packages (from tensorflow) (2.19.0)\n",
            "Requirement already satisfied: keras>=3.5.0 in /usr/local/lib/python3.12/dist-packages (from tensorflow) (3.10.0)\n",
            "Requirement already satisfied: numpy<2.2.0,>=1.26.0 in /usr/local/lib/python3.12/dist-packages (from tensorflow) (2.0.2)\n",
            "Requirement already satisfied: h5py>=3.11.0 in /usr/local/lib/python3.12/dist-packages (from tensorflow) (3.15.0)\n",
            "Requirement already satisfied: ml-dtypes<1.0.0,>=0.5.1 in /usr/local/lib/python3.12/dist-packages (from tensorflow) (0.5.3)\n",
            "Requirement already satisfied: charset_normalizer<4,>=2 in /usr/local/lib/python3.12/dist-packages (from requests<3,>=2.21.0->tensorflow) (3.4.4)\n",
            "Requirement already satisfied: idna<4,>=2.5 in /usr/local/lib/python3.12/dist-packages (from requests<3,>=2.21.0->tensorflow) (3.11)\n",
            "Requirement already satisfied: urllib3<3,>=1.21.1 in /usr/local/lib/python3.12/dist-packages (from requests<3,>=2.21.0->tensorflow) (2.5.0)\n",
            "Requirement already satisfied: certifi>=2017.4.17 in /usr/local/lib/python3.12/dist-packages (from requests<3,>=2.21.0->tensorflow) (2025.10.5)\n",
            "Requirement already satisfied: markdown>=2.6.8 in /usr/local/lib/python3.12/dist-packages (from tensorboard~=2.19.0->tensorflow) (3.9)\n",
            "Requirement already satisfied: tensorboard-data-server<0.8.0,>=0.7.0 in /usr/local/lib/python3.12/dist-packages (from tensorboard~=2.19.0->tensorflow) (0.7.2)\n",
            "Requirement already satisfied: werkzeug>=1.0.1 in /usr/local/lib/python3.12/dist-packages (from tensorboard~=2.19.0->tensorflow) (3.1.3)\n",
            "Requirement already satisfied: wheel<1.0,>=0.23.0 in /usr/local/lib/python3.12/dist-packages (from astunparse>=1.6.0->tensorflow) (0.45.1)\n",
            "Requirement already satisfied: rich in /usr/local/lib/python3.12/dist-packages (from keras>=3.5.0->tensorflow) (13.9.4)\n",
            "Requirement already satisfied: namex in /usr/local/lib/python3.12/dist-packages (from keras>=3.5.0->tensorflow) (0.1.0)\n",
            "Requirement already satisfied: optree in /usr/local/lib/python3.12/dist-packages (from keras>=3.5.0->tensorflow) (0.17.0)\n",
            "Requirement already satisfied: MarkupSafe>=2.1.1 in /usr/local/lib/python3.12/dist-packages (from werkzeug>=1.0.1->tensorboard~=2.19.0->tensorflow) (3.0.3)\n",
            "Requirement already satisfied: markdown-it-py>=2.2.0 in /usr/local/lib/python3.12/dist-packages (from rich->keras>=3.5.0->tensorflow) (4.0.0)\n",
            "Requirement already satisfied: pygments<3.0.0,>=2.13.0 in /usr/local/lib/python3.12/dist-packages (from rich->keras>=3.5.0->tensorflow) (2.19.2)\n",
            "Requirement already satisfied: mdurl~=0.1 in /usr/local/lib/python3.12/dist-packages (from markdown-it-py>=2.2.0->rich->keras>=3.5.0->tensorflow) (0.1.2)\n"
          ]
        }
      ],
      "source": [
        "pip install tensorflow"
      ]
    },
    {
      "cell_type": "markdown",
      "metadata": {
        "id": "nTNhCV8C7Osa"
      },
      "source": [
        "<html> <h3 style=\"color:red;\"> !! restart the kernel </h3> </html>"
      ]
    },
    {
      "cell_type": "markdown",
      "metadata": {
        "id": "2RZv9GMz7Osc"
      },
      "source": [
        "![image.png](attachment:b04a62f9-085a-48d9-a343-e3db3d973895.png)"
      ]
    },
    {
      "cell_type": "code",
      "execution_count": 49,
      "metadata": {
        "id": "yo0S4lqG7Osc"
      },
      "outputs": [],
      "source": [
        "# Run import TensoFlow after installing"
      ]
    },
    {
      "cell_type": "code",
      "execution_count": 50,
      "metadata": {
        "id": "lf8Ujpsu7Osd"
      },
      "outputs": [],
      "source": [
        "# import TensorFlow and Keras\n",
        "\n",
        "import tensorflow as tf\n",
        "from tensorflow import keras"
      ]
    },
    {
      "cell_type": "markdown",
      "metadata": {
        "id": "ioZP0BBE7Osd"
      },
      "source": [
        ".........................................................![image.png](attachment:f5b7278f-8f96-4088-bfc6-637544188dca.png)"
      ]
    },
    {
      "cell_type": "code",
      "execution_count": 51,
      "metadata": {
        "colab": {
          "base_uri": "https://localhost:8080/"
        },
        "id": "_PPpGI4X7Ose",
        "outputId": "44ff0c62-e709-4fd5-daff-9c09724776b9"
      },
      "outputs": [
        {
          "output_type": "stream",
          "name": "stdout",
          "text": [
            "2.19.0\n"
          ]
        }
      ],
      "source": [
        "print(tf.__version__)"
      ]
    },
    {
      "cell_type": "code",
      "execution_count": 51,
      "metadata": {
        "id": "JpqEuGT37Osg"
      },
      "outputs": [],
      "source": []
    },
    {
      "cell_type": "markdown",
      "metadata": {
        "id": "llpnj7DF7Osh"
      },
      "source": [
        "<html> <h4 style=\"color:blue;\">\n",
        "\n",
        "The Multilayer Perceptron architecture:\n",
        "\n",
        "Number of input neurons = Number of stocks for training = 500\n",
        "- Model (Neural network) consists of 4 hidden levels:\n",
        " - The first contains 1024 neurons, which is slightly more than twice the amount of input data\n",
        " - The subsequent hidden levels are half the previous level: 512, 256 and 128 neurons\n",
        " - Reducing the number of neurons at each level compresses the information that the network processed at previous levels\n",
        " - output layer - ONE neuron (predicted S&P price) as this is a regression task\n",
        "\n",
        "</h4> </html>"
      ]
    },
    {
      "cell_type": "code",
      "execution_count": 51,
      "metadata": {
        "id": "5kykTyHh7Osi"
      },
      "outputs": [],
      "source": []
    },
    {
      "cell_type": "markdown",
      "metadata": {
        "id": "k4oer_iS7Osj"
      },
      "source": [
        ".........................................................![image.png](attachment:image.png)"
      ]
    },
    {
      "cell_type": "code",
      "execution_count": 52,
      "metadata": {
        "colab": {
          "base_uri": "https://localhost:8080/",
          "height": 365
        },
        "id": "yOWO0BR47Osk",
        "outputId": "117d57be-f3f0-42e5-fa2a-8f842bc54918"
      },
      "outputs": [
        {
          "output_type": "stream",
          "name": "stderr",
          "text": [
            "/usr/local/lib/python3.12/dist-packages/keras/src/layers/core/dense.py:93: UserWarning: Do not pass an `input_shape`/`input_dim` argument to a layer. When using Sequential models, prefer using an `Input(shape)` object as the first layer in the model instead.\n",
            "  super().__init__(activity_regularizer=activity_regularizer, **kwargs)\n"
          ]
        },
        {
          "output_type": "display_data",
          "data": {
            "text/plain": [
              "\u001b[1mModel: \"sequential\"\u001b[0m\n"
            ],
            "text/html": [
              "<pre style=\"white-space:pre;overflow-x:auto;line-height:normal;font-family:Menlo,'DejaVu Sans Mono',consolas,'Courier New',monospace\"><span style=\"font-weight: bold\">Model: \"sequential\"</span>\n",
              "</pre>\n"
            ]
          },
          "metadata": {}
        },
        {
          "output_type": "display_data",
          "data": {
            "text/plain": [
              "┏━━━━━━━━━━━━━━━━━━━━━━━━━━━━━━━━━┳━━━━━━━━━━━━━━━━━━━━━━━━┳━━━━━━━━━━━━━━━┓\n",
              "┃\u001b[1m \u001b[0m\u001b[1mLayer (type)                   \u001b[0m\u001b[1m \u001b[0m┃\u001b[1m \u001b[0m\u001b[1mOutput Shape          \u001b[0m\u001b[1m \u001b[0m┃\u001b[1m \u001b[0m\u001b[1m      Param #\u001b[0m\u001b[1m \u001b[0m┃\n",
              "┡━━━━━━━━━━━━━━━━━━━━━━━━━━━━━━━━━╇━━━━━━━━━━━━━━━━━━━━━━━━╇━━━━━━━━━━━━━━━┩\n",
              "│ dense (\u001b[38;5;33mDense\u001b[0m)                   │ (\u001b[38;5;45mNone\u001b[0m, \u001b[38;5;34m1024\u001b[0m)           │       \u001b[38;5;34m513,024\u001b[0m │\n",
              "├─────────────────────────────────┼────────────────────────┼───────────────┤\n",
              "│ dense_1 (\u001b[38;5;33mDense\u001b[0m)                 │ (\u001b[38;5;45mNone\u001b[0m, \u001b[38;5;34m512\u001b[0m)            │       \u001b[38;5;34m524,800\u001b[0m │\n",
              "├─────────────────────────────────┼────────────────────────┼───────────────┤\n",
              "│ dense_2 (\u001b[38;5;33mDense\u001b[0m)                 │ (\u001b[38;5;45mNone\u001b[0m, \u001b[38;5;34m256\u001b[0m)            │       \u001b[38;5;34m131,328\u001b[0m │\n",
              "├─────────────────────────────────┼────────────────────────┼───────────────┤\n",
              "│ dense_3 (\u001b[38;5;33mDense\u001b[0m)                 │ (\u001b[38;5;45mNone\u001b[0m, \u001b[38;5;34m128\u001b[0m)            │        \u001b[38;5;34m32,896\u001b[0m │\n",
              "├─────────────────────────────────┼────────────────────────┼───────────────┤\n",
              "│ dense_4 (\u001b[38;5;33mDense\u001b[0m)                 │ (\u001b[38;5;45mNone\u001b[0m, \u001b[38;5;34m1\u001b[0m)              │           \u001b[38;5;34m129\u001b[0m │\n",
              "└─────────────────────────────────┴────────────────────────┴───────────────┘\n"
            ],
            "text/html": [
              "<pre style=\"white-space:pre;overflow-x:auto;line-height:normal;font-family:Menlo,'DejaVu Sans Mono',consolas,'Courier New',monospace\">┏━━━━━━━━━━━━━━━━━━━━━━━━━━━━━━━━━┳━━━━━━━━━━━━━━━━━━━━━━━━┳━━━━━━━━━━━━━━━┓\n",
              "┃<span style=\"font-weight: bold\"> Layer (type)                    </span>┃<span style=\"font-weight: bold\"> Output Shape           </span>┃<span style=\"font-weight: bold\">       Param # </span>┃\n",
              "┡━━━━━━━━━━━━━━━━━━━━━━━━━━━━━━━━━╇━━━━━━━━━━━━━━━━━━━━━━━━╇━━━━━━━━━━━━━━━┩\n",
              "│ dense (<span style=\"color: #0087ff; text-decoration-color: #0087ff\">Dense</span>)                   │ (<span style=\"color: #00d7ff; text-decoration-color: #00d7ff\">None</span>, <span style=\"color: #00af00; text-decoration-color: #00af00\">1024</span>)           │       <span style=\"color: #00af00; text-decoration-color: #00af00\">513,024</span> │\n",
              "├─────────────────────────────────┼────────────────────────┼───────────────┤\n",
              "│ dense_1 (<span style=\"color: #0087ff; text-decoration-color: #0087ff\">Dense</span>)                 │ (<span style=\"color: #00d7ff; text-decoration-color: #00d7ff\">None</span>, <span style=\"color: #00af00; text-decoration-color: #00af00\">512</span>)            │       <span style=\"color: #00af00; text-decoration-color: #00af00\">524,800</span> │\n",
              "├─────────────────────────────────┼────────────────────────┼───────────────┤\n",
              "│ dense_2 (<span style=\"color: #0087ff; text-decoration-color: #0087ff\">Dense</span>)                 │ (<span style=\"color: #00d7ff; text-decoration-color: #00d7ff\">None</span>, <span style=\"color: #00af00; text-decoration-color: #00af00\">256</span>)            │       <span style=\"color: #00af00; text-decoration-color: #00af00\">131,328</span> │\n",
              "├─────────────────────────────────┼────────────────────────┼───────────────┤\n",
              "│ dense_3 (<span style=\"color: #0087ff; text-decoration-color: #0087ff\">Dense</span>)                 │ (<span style=\"color: #00d7ff; text-decoration-color: #00d7ff\">None</span>, <span style=\"color: #00af00; text-decoration-color: #00af00\">128</span>)            │        <span style=\"color: #00af00; text-decoration-color: #00af00\">32,896</span> │\n",
              "├─────────────────────────────────┼────────────────────────┼───────────────┤\n",
              "│ dense_4 (<span style=\"color: #0087ff; text-decoration-color: #0087ff\">Dense</span>)                 │ (<span style=\"color: #00d7ff; text-decoration-color: #00d7ff\">None</span>, <span style=\"color: #00af00; text-decoration-color: #00af00\">1</span>)              │           <span style=\"color: #00af00; text-decoration-color: #00af00\">129</span> │\n",
              "└─────────────────────────────────┴────────────────────────┴───────────────┘\n",
              "</pre>\n"
            ]
          },
          "metadata": {}
        },
        {
          "output_type": "display_data",
          "data": {
            "text/plain": [
              "\u001b[1m Total params: \u001b[0m\u001b[38;5;34m1,202,177\u001b[0m (4.59 MB)\n"
            ],
            "text/html": [
              "<pre style=\"white-space:pre;overflow-x:auto;line-height:normal;font-family:Menlo,'DejaVu Sans Mono',consolas,'Courier New',monospace\"><span style=\"font-weight: bold\"> Total params: </span><span style=\"color: #00af00; text-decoration-color: #00af00\">1,202,177</span> (4.59 MB)\n",
              "</pre>\n"
            ]
          },
          "metadata": {}
        },
        {
          "output_type": "display_data",
          "data": {
            "text/plain": [
              "\u001b[1m Trainable params: \u001b[0m\u001b[38;5;34m1,202,177\u001b[0m (4.59 MB)\n"
            ],
            "text/html": [
              "<pre style=\"white-space:pre;overflow-x:auto;line-height:normal;font-family:Menlo,'DejaVu Sans Mono',consolas,'Courier New',monospace\"><span style=\"font-weight: bold\"> Trainable params: </span><span style=\"color: #00af00; text-decoration-color: #00af00\">1,202,177</span> (4.59 MB)\n",
              "</pre>\n"
            ]
          },
          "metadata": {}
        },
        {
          "output_type": "display_data",
          "data": {
            "text/plain": [
              "\u001b[1m Non-trainable params: \u001b[0m\u001b[38;5;34m0\u001b[0m (0.00 B)\n"
            ],
            "text/html": [
              "<pre style=\"white-space:pre;overflow-x:auto;line-height:normal;font-family:Menlo,'DejaVu Sans Mono',consolas,'Courier New',monospace\"><span style=\"font-weight: bold\"> Non-trainable params: </span><span style=\"color: #00af00; text-decoration-color: #00af00\">0</span> (0.00 B)\n",
              "</pre>\n"
            ]
          },
          "metadata": {}
        },
        {
          "output_type": "stream",
          "name": "stdout",
          "text": [
            "None\n"
          ]
        }
      ],
      "source": [
        "model=keras.Sequential([\n",
        "    keras.layers.Dense(1024,input_dim=500,activation=tf.nn.relu,kernel_initializer=\"normal\"),\n",
        "      keras.layers.Dense(512,activation='relu',kernel_initializer=\"normal\"),\n",
        "    keras.layers.Dense(256,activation='relu',kernel_initializer=\"normal\"),\n",
        "    keras.layers.Dense(128,activation='relu',kernel_initializer=\"normal\"),\n",
        "    keras.layers.Dense(1)\n",
        "])\n",
        "print(model.summary())\n",
        "\n",
        "\n",
        "\n",
        ""
      ]
    },
    {
      "cell_type": "code",
      "execution_count": 52,
      "metadata": {
        "id": "Y9txDsTR7Osk"
      },
      "outputs": [],
      "source": []
    },
    {
      "cell_type": "markdown",
      "metadata": {
        "id": "9YdN1rPB7Osl"
      },
      "source": [
        ".........................................................![image.png](attachment:11f3c506-2886-4aef-bae0-575428f41234.png)"
      ]
    },
    {
      "cell_type": "code",
      "execution_count": 53,
      "metadata": {
        "id": "RoSUzjlQ7Osl"
      },
      "outputs": [],
      "source": [
        "model.compile(optimizer='adam',loss='mse',metrics=[\"mae\"])"
      ]
    },
    {
      "cell_type": "code",
      "execution_count": 53,
      "metadata": {
        "id": "cvpT3T257Our"
      },
      "outputs": [],
      "source": []
    },
    {
      "cell_type": "code",
      "execution_count": 53,
      "metadata": {
        "id": "0-QVhNrF7Our"
      },
      "outputs": [],
      "source": []
    },
    {
      "cell_type": "markdown",
      "metadata": {
        "id": "6EwpajUP7Ous"
      },
      "source": [
        "<html> <h3 style=\"color:blue;\"> Training the Neural Network </h3> </html>"
      ]
    },
    {
      "cell_type": "markdown",
      "metadata": {
        "id": "tFHtrImb7Ous"
      },
      "source": [
        "![image.png](attachment:0624706f-5ef9-4a1c-9eaf-4d1a55a4377a.png)"
      ]
    },
    {
      "cell_type": "markdown",
      "metadata": {
        "id": "R9iUIAbm7Ous"
      },
      "source": [
        "#### <font color='red'>!!! If neural network training is slow and you spend more than one minute on one epoch, restart the Kernel, reduce the number of epochs to 10, and run again.</font>"
      ]
    },
    {
      "cell_type": "markdown",
      "metadata": {
        "id": "d4uqAok47Ous"
      },
      "source": [
        ".................![image.png](attachment:21332a6e-e620-42d2-b956-1adf03b3d734.png)"
      ]
    },
    {
      "cell_type": "code",
      "execution_count": 54,
      "metadata": {
        "colab": {
          "base_uri": "https://localhost:8080/"
        },
        "id": "T7ciSzKK7Out",
        "outputId": "3b87a41b-b73d-46f5-c900-7a0657c01a69"
      },
      "outputs": [
        {
          "output_type": "stream",
          "name": "stdout",
          "text": [
            "Epoch 1/20\n",
            "\u001b[1m517/517\u001b[0m \u001b[32m━━━━━━━━━━━━━━━━━━━━\u001b[0m\u001b[37m\u001b[0m \u001b[1m10s\u001b[0m 16ms/step - loss: 0.0317 - mae: 0.0706 - val_loss: 0.0050 - val_mae: 0.0604\n",
            "Epoch 2/20\n",
            "\u001b[1m517/517\u001b[0m \u001b[32m━━━━━━━━━━━━━━━━━━━━\u001b[0m\u001b[37m\u001b[0m \u001b[1m7s\u001b[0m 13ms/step - loss: 4.8785e-04 - mae: 0.0172 - val_loss: 0.0036 - val_mae: 0.0508\n",
            "Epoch 3/20\n",
            "\u001b[1m517/517\u001b[0m \u001b[32m━━━━━━━━━━━━━━━━━━━━\u001b[0m\u001b[37m\u001b[0m \u001b[1m8s\u001b[0m 15ms/step - loss: 3.1995e-04 - mae: 0.0136 - val_loss: 0.0125 - val_mae: 0.0953\n",
            "Epoch 4/20\n",
            "\u001b[1m517/517\u001b[0m \u001b[32m━━━━━━━━━━━━━━━━━━━━\u001b[0m\u001b[37m\u001b[0m \u001b[1m7s\u001b[0m 14ms/step - loss: 4.0937e-04 - mae: 0.0155 - val_loss: 0.0029 - val_mae: 0.0463\n",
            "Epoch 5/20\n",
            "\u001b[1m517/517\u001b[0m \u001b[32m━━━━━━━━━━━━━━━━━━━━\u001b[0m\u001b[37m\u001b[0m \u001b[1m7s\u001b[0m 13ms/step - loss: 3.9175e-04 - mae: 0.0155 - val_loss: 0.0059 - val_mae: 0.0658\n",
            "Epoch 6/20\n",
            "\u001b[1m517/517\u001b[0m \u001b[32m━━━━━━━━━━━━━━━━━━━━\u001b[0m\u001b[37m\u001b[0m \u001b[1m8s\u001b[0m 15ms/step - loss: 3.0887e-04 - mae: 0.0132 - val_loss: 0.0018 - val_mae: 0.0338\n",
            "Epoch 7/20\n",
            "\u001b[1m517/517\u001b[0m \u001b[32m━━━━━━━━━━━━━━━━━━━━\u001b[0m\u001b[37m\u001b[0m \u001b[1m7s\u001b[0m 13ms/step - loss: 2.7239e-04 - mae: 0.0124 - val_loss: 0.0011 - val_mae: 0.0272\n",
            "Epoch 8/20\n",
            "\u001b[1m517/517\u001b[0m \u001b[32m━━━━━━━━━━━━━━━━━━━━\u001b[0m\u001b[37m\u001b[0m \u001b[1m10s\u001b[0m 13ms/step - loss: 2.6911e-04 - mae: 0.0125 - val_loss: 0.0127 - val_mae: 0.1002\n",
            "Epoch 9/20\n",
            "\u001b[1m517/517\u001b[0m \u001b[32m━━━━━━━━━━━━━━━━━━━━\u001b[0m\u001b[37m\u001b[0m \u001b[1m8s\u001b[0m 15ms/step - loss: 3.9001e-04 - mae: 0.0149 - val_loss: 0.0015 - val_mae: 0.0316\n",
            "Epoch 10/20\n",
            "\u001b[1m517/517\u001b[0m \u001b[32m━━━━━━━━━━━━━━━━━━━━\u001b[0m\u001b[37m\u001b[0m \u001b[1m6s\u001b[0m 12ms/step - loss: 2.3731e-04 - mae: 0.0116 - val_loss: 5.6560e-04 - val_mae: 0.0181\n",
            "Epoch 11/20\n",
            "\u001b[1m517/517\u001b[0m \u001b[32m━━━━━━━━━━━━━━━━━━━━\u001b[0m\u001b[37m\u001b[0m \u001b[1m8s\u001b[0m 15ms/step - loss: 2.6346e-04 - mae: 0.0125 - val_loss: 0.0021 - val_mae: 0.0425\n",
            "Epoch 12/20\n",
            "\u001b[1m517/517\u001b[0m \u001b[32m━━━━━━━━━━━━━━━━━━━━\u001b[0m\u001b[37m\u001b[0m \u001b[1m7s\u001b[0m 13ms/step - loss: 2.1920e-04 - mae: 0.0114 - val_loss: 4.2058e-04 - val_mae: 0.0154\n",
            "Epoch 13/20\n",
            "\u001b[1m517/517\u001b[0m \u001b[32m━━━━━━━━━━━━━━━━━━━━\u001b[0m\u001b[37m\u001b[0m \u001b[1m8s\u001b[0m 15ms/step - loss: 3.1382e-04 - mae: 0.0135 - val_loss: 7.5682e-04 - val_mae: 0.0208\n",
            "Epoch 14/20\n",
            "\u001b[1m517/517\u001b[0m \u001b[32m━━━━━━━━━━━━━━━━━━━━\u001b[0m\u001b[37m\u001b[0m \u001b[1m7s\u001b[0m 13ms/step - loss: 2.5207e-04 - mae: 0.0121 - val_loss: 4.5878e-04 - val_mae: 0.0151\n",
            "Epoch 15/20\n",
            "\u001b[1m517/517\u001b[0m \u001b[32m━━━━━━━━━━━━━━━━━━━━\u001b[0m\u001b[37m\u001b[0m \u001b[1m7s\u001b[0m 14ms/step - loss: 2.3685e-04 - mae: 0.0118 - val_loss: 5.7116e-04 - val_mae: 0.0176\n",
            "Epoch 16/20\n",
            "\u001b[1m517/517\u001b[0m \u001b[32m━━━━━━━━━━━━━━━━━━━━\u001b[0m\u001b[37m\u001b[0m \u001b[1m8s\u001b[0m 15ms/step - loss: 2.2214e-04 - mae: 0.0114 - val_loss: 5.0160e-04 - val_mae: 0.0162\n",
            "Epoch 17/20\n",
            "\u001b[1m517/517\u001b[0m \u001b[32m━━━━━━━━━━━━━━━━━━━━\u001b[0m\u001b[37m\u001b[0m \u001b[1m7s\u001b[0m 13ms/step - loss: 2.6705e-04 - mae: 0.0123 - val_loss: 0.0010 - val_mae: 0.0261\n",
            "Epoch 18/20\n",
            "\u001b[1m517/517\u001b[0m \u001b[32m━━━━━━━━━━━━━━━━━━━━\u001b[0m\u001b[37m\u001b[0m \u001b[1m8s\u001b[0m 15ms/step - loss: 2.2883e-04 - mae: 0.0115 - val_loss: 0.0015 - val_mae: 0.0335\n",
            "Epoch 19/20\n",
            "\u001b[1m517/517\u001b[0m \u001b[32m━━━━━━━━━━━━━━━━━━━━\u001b[0m\u001b[37m\u001b[0m \u001b[1m6s\u001b[0m 12ms/step - loss: 2.1442e-04 - mae: 0.0109 - val_loss: 5.9552e-04 - val_mae: 0.0181\n",
            "Epoch 20/20\n",
            "\u001b[1m517/517\u001b[0m \u001b[32m━━━━━━━━━━━━━━━━━━━━\u001b[0m\u001b[37m\u001b[0m \u001b[1m8s\u001b[0m 15ms/step - loss: 2.0337e-04 - mae: 0.0105 - val_loss: 4.1845e-04 - val_mae: 0.0144\n"
          ]
        }
      ],
      "source": [
        "history=model.fit(x_train,y_train,batch_size=10,epochs=20,validation_split=0.2,verbose=1)"
      ]
    },
    {
      "cell_type": "code",
      "execution_count": 3,
      "metadata": {
        "id": "TDS_nKRZ7Out"
      },
      "outputs": [],
      "source": []
    },
    {
      "cell_type": "code",
      "execution_count": 3,
      "metadata": {
        "id": "GvareLOm7Out"
      },
      "outputs": [],
      "source": []
    },
    {
      "cell_type": "markdown",
      "metadata": {
        "id": "2EwWkQ817Ouu"
      },
      "source": [
        "<html> <h3 style=\"color:blue;\"> Evaluation </h3> </html>"
      ]
    },
    {
      "cell_type": "markdown",
      "metadata": {
        "id": "mgWwSJku7Ouu"
      },
      "source": [
        "................................................![image.png](attachment:ba00113a-5d6b-4834-9fdf-52f99e40d12b.png)"
      ]
    },
    {
      "cell_type": "code",
      "execution_count": 55,
      "metadata": {
        "colab": {
          "base_uri": "https://localhost:8080/"
        },
        "id": "rQ_h2IuT7Ouv",
        "outputId": "aad3a424-f39a-49b6-de32-8e588c0a38b2"
      },
      "outputs": [
        {
          "output_type": "stream",
          "name": "stdout",
          "text": [
            "Mean absolute error:0.02298\n",
            "Mean squared error:0.00112\n"
          ]
        }
      ],
      "source": [
        "mse,mae=model.evaluate(x_test,y_test,verbose=0)\n",
        "print(\"Mean absolute error:%.5f\"%mae)\n",
        "print(\"Mean squared error:%.5f\"%mse)\n",
        "\n"
      ]
    },
    {
      "cell_type": "code",
      "execution_count": 4,
      "metadata": {
        "id": "vzLCsvKD7Ouv"
      },
      "outputs": [],
      "source": []
    },
    {
      "cell_type": "code",
      "execution_count": 4,
      "metadata": {
        "id": "7-aVxNer7Ouw"
      },
      "outputs": [],
      "source": []
    },
    {
      "cell_type": "markdown",
      "metadata": {
        "id": "IgHv46ne7Ouw"
      },
      "source": [
        "<html> <h3 style=\"color:blue;\"> Training process graph </h3> </html>"
      ]
    },
    {
      "cell_type": "markdown",
      "metadata": {
        "id": "sotU_lJh7Ouw"
      },
      "source": [
        "#### Mean Absolute Error (MAE) Chart"
      ]
    },
    {
      "cell_type": "markdown",
      "metadata": {
        "id": "LQH7wyjC7Ouw"
      },
      "source": [
        "##### Now just press 'CTRL' and 'ENTER' keys on the next cells."
      ]
    },
    {
      "cell_type": "code",
      "execution_count": 56,
      "metadata": {
        "colab": {
          "base_uri": "https://localhost:8080/",
          "height": 619
        },
        "id": "QuaSLLe27Ouw",
        "outputId": "cdb281a4-43dc-4ac1-8bda-96113a0b09a2"
      },
      "outputs": [
        {
          "output_type": "display_data",
          "data": {
            "text/plain": [
              "<Figure size 1500x700 with 1 Axes>"
            ],
            "image/png": "[encoded data removed]"
          },
          "metadata": {}
        }
      ],
      "source": [
        "history_dict = history.history\n",
        "\n",
        "mean_absolute_error_values = history_dict['mae']\n",
        "val_mean_absolute_error_values = history_dict['val_mae']\n",
        "epochs = range(1, len(mean_absolute_error_values) + 1)\n",
        "\n",
        "plt.figure(num=1, figsize=(15,7))\n",
        "plt.plot(epochs, mean_absolute_error_values, 'bo', label='Training mae')\n",
        "plt.plot(epochs, val_mean_absolute_error_values, 'b', label='Validation mae')\n",
        "plt.xlabel('Epochs')\n",
        "plt.ylabel('Mean Absolute Error - mae')\n",
        "plt.legend()\n",
        "plt.show()"
      ]
    },
    {
      "cell_type": "markdown",
      "metadata": {
        "id": "WPdzfFVr7Oux"
      },
      "source": [
        "##### Type the code below by copying and slightly changing the previous cell code"
      ]
    },
    {
      "cell_type": "markdown",
      "metadata": {
        "id": "nTU_ieOp7Oux"
      },
      "source": [
        "...................................![image.png](attachment:7e2e3e88-3c3f-40cd-905a-c831d2f67777.png)"
      ]
    },
    {
      "cell_type": "code",
      "execution_count": 57,
      "metadata": {
        "colab": {
          "base_uri": "https://localhost:8080/",
          "height": 619
        },
        "id": "FkwgmMsG7Ouy",
        "outputId": "fd7df5c5-4059-47a4-cce5-20a575fab29e"
      },
      "outputs": [
        {
          "output_type": "display_data",
          "data": {
            "text/plain": [
              "<Figure size 1500x700 with 1 Axes>"
            ],
            "image/png": "[encoded data removed]"
          },
          "metadata": {}
        }
      ],
      "source": [
        "history_dict = history.history\n",
        "\n",
        "mean_absolute_error_values = history_dict['loss']\n",
        "val_mean_absolute_error_values = history_dict['val_loss']\n",
        "epochs = range(1, len(mean_absolute_error_values) + 1)\n",
        "\n",
        "plt.figure(num=1, figsize=(15,7))\n",
        "plt.plot(epochs, mean_absolute_error_values, 'bo', label='Training mae')\n",
        "plt.plot(epochs, val_mean_absolute_error_values, 'b', label='Validation mae')\n",
        "plt.xlabel('Epochs')\n",
        "plt.ylabel('Mean Absolute Error - mae')\n",
        "plt.legend()\n",
        "plt.show()"
      ]
    },
    {
      "cell_type": "code",
      "execution_count": 6,
      "metadata": {
        "id": "yY-kXHyc7Ou0"
      },
      "outputs": [],
      "source": []
    },
    {
      "cell_type": "code",
      "execution_count": 6,
      "metadata": {
        "id": "-BP3LQ8G7Ou1"
      },
      "outputs": [],
      "source": []
    },
    {
      "cell_type": "markdown",
      "metadata": {
        "id": "nKiFZ8MM7Ou5"
      },
      "source": [
        "<html> <h3 style=\"color:blue;\"> Using the neural network to predict the price of the S&P-500 </h3> </html>"
      ]
    },
    {
      "cell_type": "code",
      "execution_count": 7,
      "metadata": {
        "id": "nI4mhlvq7Ou5"
      },
      "outputs": [],
      "source": [
        "# Based on the MinMaxScaler formula, let's calculate the parameters for restoring absolute prices from normalised ones."
      ]
    },
    {
      "cell_type": "markdown",
      "metadata": {
        "id": "VUDXIUWu7Ou5"
      },
      "source": [
        "![image.png](attachment:image.png)"
      ]
    },
    {
      "cell_type": "markdown",
      "metadata": {
        "id": "tRX-uN5R7Ou6"
      },
      "source": [
        "...................................![image.png](attachment:56332b8c-142f-4b48-ad7e-6931c35b8eaa.png)"
      ]
    },
    {
      "cell_type": "code",
      "execution_count": 58,
      "metadata": {
        "colab": {
          "base_uri": "https://localhost:8080/"
        },
        "id": "HzBZ8Sa37Ou6",
        "outputId": "c6c1f2be-79b9-460c-e7f4-95d1cd32ec12"
      },
      "outputs": [
        {
          "output_type": "stream",
          "name": "stdout",
          "text": [
            "2329.1399 \n",
            " 2397.9299\n"
          ]
        }
      ],
      "source": [
        "sp500_min_train_min=data_train[:,0].min()\n",
        "sp500_min_train_max=data_train[:,0].max()\n",
        "print(sp500_min_train_min,'\\n',sp500_min_train_max)"
      ]
    },
    {
      "cell_type": "code",
      "execution_count": 58,
      "metadata": {
        "id": "rQwi-DmR7Ou6"
      },
      "outputs": [],
      "source": []
    },
    {
      "cell_type": "markdown",
      "metadata": {
        "id": "GBCO7OUx7Ou7"
      },
      "source": [
        "........................................![image.png](attachment:b7cdf473-7fb0-4812-bad1-b54c1845a42b.png)"
      ]
    },
    {
      "cell_type": "code",
      "execution_count": 59,
      "metadata": {
        "colab": {
          "base_uri": "https://localhost:8080/"
        },
        "id": "wMDG-4v27Ou8",
        "outputId": "4c62ec1d-22d3-4f44-e2b9-03f7b2f24b9e"
      },
      "outputs": [
        {
          "output_type": "execute_result",
          "data": {
            "text/plain": [
              "np.float64(68.78999999999996)"
            ]
          },
          "metadata": {},
          "execution_count": 59
        }
      ],
      "source": [
        "sp500_min_train_delta=data_train[:,0].max()-data_train[:,0].min()\n",
        "sp500_min_train_delta"
      ]
    },
    {
      "cell_type": "code",
      "execution_count": 9,
      "metadata": {
        "id": "emY_5XMN7Ou8"
      },
      "outputs": [],
      "source": []
    },
    {
      "cell_type": "markdown",
      "metadata": {
        "id": "IVrzhE9U7Ou9"
      },
      "source": [
        "#### Now just press 'CTRL' and 'ENTER' keys on the next cells."
      ]
    },
    {
      "cell_type": "code",
      "execution_count": 60,
      "metadata": {
        "colab": {
          "base_uri": "https://localhost:8080/"
        },
        "id": "3UOMwmXj7Ou9",
        "outputId": "91bd1071-65d2-4792-db49-b12d75c83a7a"
      },
      "outputs": [
        {
          "output_type": "stream",
          "name": "stdout",
          "text": [
            "\u001b[1m253/253\u001b[0m \u001b[32m━━━━━━━━━━━━━━━━━━━━\u001b[0m\u001b[37m\u001b[0m \u001b[1m1s\u001b[0m 4ms/step\n",
            " Predicted price: 2387.590630009079 \n",
            " Actual price: 2387.0600999999997 \n",
            " absolut error: 0.5305300090794844 \n",
            " % absolut error: 0.02222524724364856 %\n"
          ]
        }
      ],
      "source": [
        "import random\n",
        "\n",
        "pred = model.predict(x_test)\n",
        "\n",
        "n_rec = random.randint(0, x_test.shape[0])\n",
        "\n",
        "predicted_price = pred[n_rec][0] * sp500_min_train_delta + sp500_min_train_min\n",
        "actual_price    = y_test[n_rec]  * sp500_min_train_delta + sp500_min_train_min\n",
        "\n",
        "print(\" Predicted price:\", predicted_price, '\\n' ,\n",
        "      \"Actual price:\", actual_price, '\\n',\n",
        "      \"absolut error:\", predicted_price - actual_price, '\\n',\n",
        "      \"% absolut error:\", (predicted_price - actual_price) / actual_price * 100,\"%\")"
      ]
    },
    {
      "cell_type": "markdown",
      "metadata": {
        "id": "O3I2UE0E7Ou9"
      },
      "source": [
        "<html> <h3 style=\"font-style:italic; color:red;\">  \n",
        "Run the previous cell several times and look at the results\n",
        "</h3> </html>\n",
        "\n",
        "\n",
        "<html> <h3 style=\"color:blue;\">Describe the results in the cell below </h3> </html>"
      ]
    },
    {
      "cell_type": "code",
      "execution_count": 60,
      "metadata": {
        "id": "alTFxaY77Ou_"
      },
      "outputs": [],
      "source": []
    },
    {
      "cell_type": "markdown",
      "metadata": {
        "id": "nmG82aY77Ou_"
      },
      "source": [
        "<html> <h3 style=\"color:blue;\"> Price chart </h3> </html>"
      ]
    },
    {
      "cell_type": "markdown",
      "metadata": {
        "id": "4Db7pA3e7OvA"
      },
      "source": [
        "#### Now just press 'CTRL' and 'ENTER' keys on the next cells."
      ]
    },
    {
      "cell_type": "code",
      "execution_count": 61,
      "metadata": {
        "colab": {
          "base_uri": "https://localhost:8080/",
          "height": 476
        },
        "id": "jXD67Gxm7OvA",
        "outputId": "1c025a60-7118-405a-d7bd-25550483b8b7"
      },
      "outputs": [
        {
          "output_type": "display_data",
          "data": {
            "text/plain": [
              "<Figure size 1700x600 with 1 Axes>"
            ],
            "image/png": "[encoded data removed]"
          },
          "metadata": {}
        }
      ],
      "source": [
        "fig = plt.figure(figsize=(17,6))\n",
        "ax1 = fig.add_subplot(111)\n",
        "line1, = ax1.plot(y_test * sp500_min_train_delta + sp500_min_train_min)\n",
        "line2, = ax1.plot(pred[:,0] * sp500_min_train_delta + sp500_min_train_min)\n",
        "plt.legend(labels=['Actual prices', 'Predicted prices'], loc='upper right')\n",
        "\n",
        "plt.show();"
      ]
    },
    {
      "cell_type": "code",
      "execution_count": 10,
      "metadata": {
        "id": "mWK59dl47OvB"
      },
      "outputs": [],
      "source": []
    },
    {
      "cell_type": "markdown",
      "metadata": {
        "id": "8BlTnn577OvC"
      },
      "source": [
        "<html> <h3 style=\"color:blue;\"> Error Chart </h3> </html>"
      ]
    },
    {
      "cell_type": "code",
      "execution_count": 11,
      "metadata": {
        "id": "SH0yL5Cg7OvC"
      },
      "outputs": [],
      "source": [
        "# Shows the absolute error in predicting the SP values ​​at each minute."
      ]
    },
    {
      "cell_type": "markdown",
      "metadata": {
        "id": "Np2zTIr77OvE"
      },
      "source": [
        "#### Now just press 'CTRL' and 'ENTER' keys on the next cells."
      ]
    },
    {
      "cell_type": "code",
      "execution_count": 62,
      "metadata": {
        "colab": {
          "base_uri": "https://localhost:8080/",
          "height": 482
        },
        "id": "5zA1Jz-E7OvE",
        "outputId": "f9480e20-d83a-40af-d89c-087a789bb231"
      },
      "outputs": [
        {
          "output_type": "display_data",
          "data": {
            "text/plain": [
              "<Figure size 1700x600 with 1 Axes>"
            ],
            "image/png": "[encoded data removed]"
          },
          "metadata": {}
        }
      ],
      "source": [
        "plt.ion()  # interactive mode, used for graphs of many functions\n",
        "# More details: https://www.geeksforgeeks.org/matplotlib-pyplot-ion-in-python/\n",
        "\n",
        "fig = plt.figure(figsize=(17,6))\n",
        "ax1 = fig.add_subplot(111)\n",
        "\n",
        "a = (pred[:,0]-y_test) * sp500_min_train_delta\n",
        "line1, = ax1.plot(a)\n",
        "\n",
        "plt.show()"
      ]
    },
    {
      "cell_type": "code",
      "execution_count": 63,
      "metadata": {
        "id": "YmJA9ClO7OvF"
      },
      "outputs": [],
      "source": [
        "# Further improvement of the predictive system should be aimed at reducing the outliers on the graph."
      ]
    },
    {
      "cell_type": "code",
      "execution_count": 63,
      "metadata": {
        "id": "9c-stl3K7OvF"
      },
      "outputs": [],
      "source": []
    },
    {
      "cell_type": "markdown",
      "metadata": {
        "id": "NgyZydGh7OvG"
      },
      "source": [
        "# Lab Logbook Requirement:"
      ]
    },
    {
      "cell_type": "markdown",
      "metadata": {
        "id": "ueZzG9vE7OvG"
      },
      "source": [
        "<html> <h3 style=\"font-style:italic; color:blue;\">\n",
        "   \n",
        "1) Create your own Multi-layer Perceptron (MLP) with two hidden layers, where the first hidden layer cells' number equals the last three digits of your SID. The number of cells in the next hidden layer is approximately two times smaller. For example, if your SID is 2287167, the number of cells on the first hidden layer is 167, and on the second - 84. Take epochs=10. Leave other parameters the same as in the practical session.\n",
        "2) Compile the model.\n",
        "3) Train your MLP with the same datasets and demonstrate the received MAE.\n",
        "4) Compare your MAE with the MAE of the MLP in the practical session.\n",
        "5) Please only add to your Lab Logbook a print-screen of your MLP architecture using model.summary() and the resulting MAE.\n",
        "    \n",
        "</h3> </html>"
      ]
    },
    {
      "cell_type": "markdown",
      "metadata": {
        "id": "WGqP_mBf7OvG"
      },
      "source": [
        "<html> <h3 style=\"color:red;\">\n",
        "NOTE: DON'T FORGET TO SAVE AND BACK UP YOUR COMPLETED JUPYTER NOTEBOOK AND LAB LOGBOOK ON GITHUB OR ONEDRIVE.\n",
        "</h3> </html>"
      ]
    },
    {
      "cell_type": "code",
      "execution_count": 71,
      "metadata": {
        "id": "W7pRqjck7OvJ"
      },
      "outputs": [],
      "source": [
        "model1=keras.Sequential([\n",
        "      keras.layers.Dense(121,activation='relu',kernel_initializer=\"normal\"),\n",
        "    keras.layers.Dense(61,activation='relu',kernel_initializer=\"normal\"),\n",
        "     keras.layers.Dense(1)\n",
        "   ])\n"
      ]
    },
    {
      "cell_type": "code",
      "execution_count": 72,
      "metadata": {
        "id": "2g8KZ0dJ7OvJ"
      },
      "outputs": [],
      "source": [
        "model1.compile(optimizer='adam',loss='mse',metrics=[\"mae\"])"
      ]
    },
    {
      "cell_type": "code",
      "execution_count": 73,
      "metadata": {
        "colab": {
          "base_uri": "https://localhost:8080/"
        },
        "id": "kIPXYuJT7OvK",
        "outputId": "271fd8d0-10f9-449d-ce6e-d02c9b84dd9c"
      },
      "outputs": [
        {
          "output_type": "stream",
          "name": "stdout",
          "text": [
            "Epoch 1/10\n",
            "\u001b[1m517/517\u001b[0m \u001b[32m━━━━━━━━━━━━━━━━━━━━\u001b[0m\u001b[37m\u001b[0m \u001b[1m3s\u001b[0m 3ms/step - loss: 0.0046 - mae: 0.0383 - val_loss: 0.0070 - val_mae: 0.0626\n",
            "Epoch 2/10\n",
            "\u001b[1m517/517\u001b[0m \u001b[32m━━━━━━━━━━━━━━━━━━━━\u001b[0m\u001b[37m\u001b[0m \u001b[1m1s\u001b[0m 3ms/step - loss: 3.6757e-04 - mae: 0.0150 - val_loss: 0.0024 - val_mae: 0.0429\n",
            "Epoch 3/10\n",
            "\u001b[1m517/517\u001b[0m \u001b[32m━━━━━━━━━━━━━━━━━━━━\u001b[0m\u001b[37m\u001b[0m \u001b[1m1s\u001b[0m 3ms/step - loss: 3.2069e-04 - mae: 0.0137 - val_loss: 0.0016 - val_mae: 0.0344\n",
            "Epoch 4/10\n",
            "\u001b[1m517/517\u001b[0m \u001b[32m━━━━━━━━━━━━━━━━━━━━\u001b[0m\u001b[37m\u001b[0m \u001b[1m1s\u001b[0m 3ms/step - loss: 2.9962e-04 - mae: 0.0131 - val_loss: 0.0030 - val_mae: 0.0436\n",
            "Epoch 5/10\n",
            "\u001b[1m517/517\u001b[0m \u001b[32m━━━━━━━━━━━━━━━━━━━━\u001b[0m\u001b[37m\u001b[0m \u001b[1m2s\u001b[0m 3ms/step - loss: 3.2415e-04 - mae: 0.0138 - val_loss: 0.0010 - val_mae: 0.0255\n",
            "Epoch 6/10\n",
            "\u001b[1m517/517\u001b[0m \u001b[32m━━━━━━━━━━━━━━━━━━━━\u001b[0m\u001b[37m\u001b[0m \u001b[1m2s\u001b[0m 4ms/step - loss: 3.0144e-04 - mae: 0.0132 - val_loss: 6.8495e-04 - val_mae: 0.0204\n",
            "Epoch 7/10\n",
            "\u001b[1m517/517\u001b[0m \u001b[32m━━━━━━━━━━━━━━━━━━━━\u001b[0m\u001b[37m\u001b[0m \u001b[1m1s\u001b[0m 3ms/step - loss: 3.1117e-04 - mae: 0.0135 - val_loss: 0.0035 - val_mae: 0.0515\n",
            "Epoch 8/10\n",
            "\u001b[1m517/517\u001b[0m \u001b[32m━━━━━━━━━━━━━━━━━━━━\u001b[0m\u001b[37m\u001b[0m \u001b[1m1s\u001b[0m 3ms/step - loss: 2.8610e-04 - mae: 0.0131 - val_loss: 0.0012 - val_mae: 0.0266\n",
            "Epoch 9/10\n",
            "\u001b[1m517/517\u001b[0m \u001b[32m━━━━━━━━━━━━━━━━━━━━\u001b[0m\u001b[37m\u001b[0m \u001b[1m1s\u001b[0m 3ms/step - loss: 2.1082e-04 - mae: 0.0111 - val_loss: 7.7141e-04 - val_mae: 0.0213\n",
            "Epoch 10/10\n",
            "\u001b[1m517/517\u001b[0m \u001b[32m━━━━━━━━━━━━━━━━━━━━\u001b[0m\u001b[37m\u001b[0m \u001b[1m1s\u001b[0m 3ms/step - loss: 1.9936e-04 - mae: 0.0105 - val_loss: 6.5208e-04 - val_mae: 0.0197\n"
          ]
        }
      ],
      "source": [
        "hist1=model1.fit(x_train,y_train,batch_size=10,epochs=10,validation_split=0.2,verbose=1)"
      ]
    },
    {
      "cell_type": "code",
      "execution_count": 68,
      "metadata": {
        "colab": {
          "base_uri": "https://localhost:8080/"
        },
        "id": "_Mj0GziB7OvO",
        "outputId": "c433a37d-fcda-4aea-fa0e-77318d954781"
      },
      "outputs": [
        {
          "output_type": "stream",
          "name": "stdout",
          "text": [
            "Mean absolute error:0.02685\n",
            "Mean squared error:0.00136\n"
          ]
        }
      ],
      "source": [
        "mse,mae=model1.evaluate(x_test,y_test,verbose=0)\n",
        "print(\"Mean absolute error:%.5f\"%mae)\n",
        "print(\"Mean squared error:%.5f\"%mse)"
      ]
    },
    {
      "cell_type": "code",
      "execution_count": 69,
      "metadata": {
        "id": "zwpz6v-F7OvQ"
      },
      "outputs": [],
      "source": [
        "#mae value of the pracical session is slghly lower\n",
        "#the mae of current model indicating that the pracical model has performed slightly better"
      ]
    },
    {
      "cell_type": "code",
      "execution_count": 74,
      "metadata": {
        "colab": {
          "base_uri": "https://localhost:8080/",
          "height": 327
        },
        "id": "LIolGeKN7OvR",
        "outputId": "a90775c1-e652-46a5-8de6-08aa21bfcd73"
      },
      "outputs": [
        {
          "output_type": "display_data",
          "data": {
            "text/plain": [
              "\u001b[1mModel: \"sequential\"\u001b[0m\n"
            ],
            "text/html": [
              "<pre style=\"white-space:pre;overflow-x:auto;line-height:normal;font-family:Menlo,'DejaVu Sans Mono',consolas,'Courier New',monospace\"><span style=\"font-weight: bold\">Model: \"sequential\"</span>\n",
              "</pre>\n"
            ]
          },
          "metadata": {}
        },
        {
          "output_type": "display_data",
          "data": {
            "text/plain": [
              "┏━━━━━━━━━━━━━━━━━━━━━━━━━━━━━━━━━┳━━━━━━━━━━━━━━━━━━━━━━━━┳━━━━━━━━━━━━━━━┓\n",
              "┃\u001b[1m \u001b[0m\u001b[1mLayer (type)                   \u001b[0m\u001b[1m \u001b[0m┃\u001b[1m \u001b[0m\u001b[1mOutput Shape          \u001b[0m\u001b[1m \u001b[0m┃\u001b[1m \u001b[0m\u001b[1m      Param #\u001b[0m\u001b[1m \u001b[0m┃\n",
              "┡━━━━━━━━━━━━━━━━━━━━━━━━━━━━━━━━━╇━━━━━━━━━━━━━━━━━━━━━━━━╇━━━━━━━━━━━━━━━┩\n",
              "│ dense (\u001b[38;5;33mDense\u001b[0m)                   │ (\u001b[38;5;45mNone\u001b[0m, \u001b[38;5;34m1024\u001b[0m)           │       \u001b[38;5;34m513,024\u001b[0m │\n",
              "├─────────────────────────────────┼────────────────────────┼───────────────┤\n",
              "│ dense_1 (\u001b[38;5;33mDense\u001b[0m)                 │ (\u001b[38;5;45mNone\u001b[0m, \u001b[38;5;34m512\u001b[0m)            │       \u001b[38;5;34m524,800\u001b[0m │\n",
              "├─────────────────────────────────┼────────────────────────┼───────────────┤\n",
              "│ dense_2 (\u001b[38;5;33mDense\u001b[0m)                 │ (\u001b[38;5;45mNone\u001b[0m, \u001b[38;5;34m256\u001b[0m)            │       \u001b[38;5;34m131,328\u001b[0m │\n",
              "├─────────────────────────────────┼────────────────────────┼───────────────┤\n",
              "│ dense_3 (\u001b[38;5;33mDense\u001b[0m)                 │ (\u001b[38;5;45mNone\u001b[0m, \u001b[38;5;34m128\u001b[0m)            │        \u001b[38;5;34m32,896\u001b[0m │\n",
              "├─────────────────────────────────┼────────────────────────┼───────────────┤\n",
              "│ dense_4 (\u001b[38;5;33mDense\u001b[0m)                 │ (\u001b[38;5;45mNone\u001b[0m, \u001b[38;5;34m1\u001b[0m)              │           \u001b[38;5;34m129\u001b[0m │\n",
              "└─────────────────────────────────┴────────────────────────┴───────────────┘\n"
            ],
            "text/html": [
              "<pre style=\"white-space:pre;overflow-x:auto;line-height:normal;font-family:Menlo,'DejaVu Sans Mono',consolas,'Courier New',monospace\">┏━━━━━━━━━━━━━━━━━━━━━━━━━━━━━━━━━┳━━━━━━━━━━━━━━━━━━━━━━━━┳━━━━━━━━━━━━━━━┓\n",
              "┃<span style=\"font-weight: bold\"> Layer (type)                    </span>┃<span style=\"font-weight: bold\"> Output Shape           </span>┃<span style=\"font-weight: bold\">       Param # </span>┃\n",
              "┡━━━━━━━━━━━━━━━━━━━━━━━━━━━━━━━━━╇━━━━━━━━━━━━━━━━━━━━━━━━╇━━━━━━━━━━━━━━━┩\n",
              "│ dense (<span style=\"color: #0087ff; text-decoration-color: #0087ff\">Dense</span>)                   │ (<span style=\"color: #00d7ff; text-decoration-color: #00d7ff\">None</span>, <span style=\"color: #00af00; text-decoration-color: #00af00\">1024</span>)           │       <span style=\"color: #00af00; text-decoration-color: #00af00\">513,024</span> │\n",
              "├─────────────────────────────────┼────────────────────────┼───────────────┤\n",
              "│ dense_1 (<span style=\"color: #0087ff; text-decoration-color: #0087ff\">Dense</span>)                 │ (<span style=\"color: #00d7ff; text-decoration-color: #00d7ff\">None</span>, <span style=\"color: #00af00; text-decoration-color: #00af00\">512</span>)            │       <span style=\"color: #00af00; text-decoration-color: #00af00\">524,800</span> │\n",
              "├─────────────────────────────────┼────────────────────────┼───────────────┤\n",
              "│ dense_2 (<span style=\"color: #0087ff; text-decoration-color: #0087ff\">Dense</span>)                 │ (<span style=\"color: #00d7ff; text-decoration-color: #00d7ff\">None</span>, <span style=\"color: #00af00; text-decoration-color: #00af00\">256</span>)            │       <span style=\"color: #00af00; text-decoration-color: #00af00\">131,328</span> │\n",
              "├─────────────────────────────────┼────────────────────────┼───────────────┤\n",
              "│ dense_3 (<span style=\"color: #0087ff; text-decoration-color: #0087ff\">Dense</span>)                 │ (<span style=\"color: #00d7ff; text-decoration-color: #00d7ff\">None</span>, <span style=\"color: #00af00; text-decoration-color: #00af00\">128</span>)            │        <span style=\"color: #00af00; text-decoration-color: #00af00\">32,896</span> │\n",
              "├─────────────────────────────────┼────────────────────────┼───────────────┤\n",
              "│ dense_4 (<span style=\"color: #0087ff; text-decoration-color: #0087ff\">Dense</span>)                 │ (<span style=\"color: #00d7ff; text-decoration-color: #00d7ff\">None</span>, <span style=\"color: #00af00; text-decoration-color: #00af00\">1</span>)              │           <span style=\"color: #00af00; text-decoration-color: #00af00\">129</span> │\n",
              "└─────────────────────────────────┴────────────────────────┴───────────────┘\n",
              "</pre>\n"
            ]
          },
          "metadata": {}
        },
        {
          "output_type": "display_data",
          "data": {
            "text/plain": [
              "\u001b[1m Total params: \u001b[0m\u001b[38;5;34m3,606,533\u001b[0m (13.76 MB)\n"
            ],
            "text/html": [
              "<pre style=\"white-space:pre;overflow-x:auto;line-height:normal;font-family:Menlo,'DejaVu Sans Mono',consolas,'Courier New',monospace\"><span style=\"font-weight: bold\"> Total params: </span><span style=\"color: #00af00; text-decoration-color: #00af00\">3,606,533</span> (13.76 MB)\n",
              "</pre>\n"
            ]
          },
          "metadata": {}
        },
        {
          "output_type": "display_data",
          "data": {
            "text/plain": [
              "\u001b[1m Trainable params: \u001b[0m\u001b[38;5;34m1,202,177\u001b[0m (4.59 MB)\n"
            ],
            "text/html": [
              "<pre style=\"white-space:pre;overflow-x:auto;line-height:normal;font-family:Menlo,'DejaVu Sans Mono',consolas,'Courier New',monospace\"><span style=\"font-weight: bold\"> Trainable params: </span><span style=\"color: #00af00; text-decoration-color: #00af00\">1,202,177</span> (4.59 MB)\n",
              "</pre>\n"
            ]
          },
          "metadata": {}
        },
        {
          "output_type": "display_data",
          "data": {
            "text/plain": [
              "\u001b[1m Non-trainable params: \u001b[0m\u001b[38;5;34m0\u001b[0m (0.00 B)\n"
            ],
            "text/html": [
              "<pre style=\"white-space:pre;overflow-x:auto;line-height:normal;font-family:Menlo,'DejaVu Sans Mono',consolas,'Courier New',monospace\"><span style=\"font-weight: bold\"> Non-trainable params: </span><span style=\"color: #00af00; text-decoration-color: #00af00\">0</span> (0.00 B)\n",
              "</pre>\n"
            ]
          },
          "metadata": {}
        },
        {
          "output_type": "display_data",
          "data": {
            "text/plain": [
              "\u001b[1m Optimizer params: \u001b[0m\u001b[38;5;34m2,404,356\u001b[0m (9.17 MB)\n"
            ],
            "text/html": [
              "<pre style=\"white-space:pre;overflow-x:auto;line-height:normal;font-family:Menlo,'DejaVu Sans Mono',consolas,'Courier New',monospace\"><span style=\"font-weight: bold\"> Optimizer params: </span><span style=\"color: #00af00; text-decoration-color: #00af00\">2,404,356</span> (9.17 MB)\n",
              "</pre>\n"
            ]
          },
          "metadata": {}
        },
        {
          "output_type": "stream",
          "name": "stdout",
          "text": [
            "None\n"
          ]
        }
      ],
      "source": [
        "print(model.summary())"
      ]
    },
    {
      "cell_type": "code",
      "execution_count": 70,
      "metadata": {
        "id": "Tn2UKN407OvS"
      },
      "outputs": [],
      "source": []
    }
  ],
  "metadata": {
    "kernelspec": {
      "display_name": "Python 3 (ipykernel)",
      "language": "python",
      "name": "python3"
    },
    "language_info": {
      "codemirror_mode": {
        "name": "ipython",
        "version": 3
      },
      "file_extension": ".py",
      "mimetype": "text/x-python",
      "name": "python",
      "nbconvert_exporter": "python",
      "pygments_lexer": "ipython3",
      "version": "3.11.7"
    },
    "colab": {
      "provenance": []
    }
  },
  "nbformat": 4,
  "nbformat_minor": 0
}